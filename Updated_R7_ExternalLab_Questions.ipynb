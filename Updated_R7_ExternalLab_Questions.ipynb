{
  "nbformat": 4,
  "nbformat_minor": 0,
  "metadata": {
    "colab": {
      "name": "Updated_R7_ExternalLab_Questions.ipynb",
      "provenance": [],
      "collapsed_sections": []
    },
    "kernelspec": {
      "name": "python3",
      "display_name": "Python 3"
    }
  },
  "cells": [
    {
      "cell_type": "markdown",
      "metadata": {
        "id": "4WH1Pr4KQlCh",
        "colab_type": "text"
      },
      "source": [
        "### Build a DNN using Keras with `RELU` and `ADAM`"
      ]
    },
    {
      "cell_type": "markdown",
      "metadata": {
        "id": "TbvI8LqlQlCl",
        "colab_type": "text"
      },
      "source": [
        "#### Load tensorflow"
      ]
    },
    {
      "cell_type": "code",
      "metadata": {
        "id": "SPW-a-qYQlCp",
        "colab_type": "code",
        "outputId": "9d747e6e-b8c1-4ba8-901a-a1a2c740a550",
        "colab": {
          "base_uri": "https://localhost:8080/",
          "height": 34
        }
      },
      "source": [
        "import tensorflow as tf\n",
        "print(tf.__version__)"
      ],
      "execution_count": 249,
      "outputs": [
        {
          "output_type": "stream",
          "text": [
            "2.1.0-rc1\n"
          ],
          "name": "stdout"
        }
      ]
    },
    {
      "cell_type": "markdown",
      "metadata": {
        "id": "74cQBsi5QlCw",
        "colab_type": "text"
      },
      "source": [
        "#### Collect Fashion mnist data from tf.keras.datasets "
      ]
    },
    {
      "cell_type": "code",
      "metadata": {
        "id": "wVWy0oDTr2Kj",
        "colab_type": "code",
        "colab": {}
      },
      "source": [
        "(trainX, trainY),(testX, testY) = tf.keras.datasets.fashion_mnist.load_data()"
      ],
      "execution_count": 0,
      "outputs": []
    },
    {
      "cell_type": "markdown",
      "metadata": {
        "id": "no7aWYZyQlC1",
        "colab_type": "text"
      },
      "source": [
        "#### Change train and test labels into one-hot vectors"
      ]
    },
    {
      "cell_type": "code",
      "metadata": {
        "id": "UX6otc4wQlC2",
        "colab_type": "code",
        "colab": {}
      },
      "source": [
        "trainY = tf.keras.utils.to_categorical(trainY, num_classes=10)\n",
        "testY = tf.keras.utils.to_categorical(testY, num_classes=10)"
      ],
      "execution_count": 0,
      "outputs": []
    },
    {
      "cell_type": "markdown",
      "metadata": {
        "id": "QjNrRTdoQlC5",
        "colab_type": "text"
      },
      "source": [
        "#### Build the Graph"
      ]
    },
    {
      "cell_type": "markdown",
      "metadata": {
        "id": "CDJ9DHVNQlC7",
        "colab_type": "text"
      },
      "source": [
        "#### Initialize model, reshape & normalize data"
      ]
    },
    {
      "cell_type": "code",
      "metadata": {
        "id": "pCDQs_g1QlC8",
        "colab_type": "code",
        "colab": {}
      },
      "source": [
        "#Clear out tensorflow memory\n",
        "tf.keras.backend.clear_session()\n",
        "\n",
        "#Initialize Sequential model\n",
        "model = tf.keras.models.Sequential()\n",
        "\n",
        "#Reshape data from 2D to 1D -> 28x28 to 784\n",
        "model.add(tf.keras.layers.Reshape((784,),input_shape=(28,28,)))\n",
        "\n",
        "#Normalize the data\n",
        "model.add(tf.keras.layers.BatchNormalization())"
      ],
      "execution_count": 0,
      "outputs": []
    },
    {
      "cell_type": "markdown",
      "metadata": {
        "id": "kBGwTTilQlDD",
        "colab_type": "text"
      },
      "source": [
        "#### Add two fully connected layers with 200 and 100 neurons respectively with `relu` activations. Add a dropout layer with `p=0.25`"
      ]
    },
    {
      "cell_type": "code",
      "metadata": {
        "id": "IXbfpfOzQlDF",
        "colab_type": "code",
        "colab": {}
      },
      "source": [
        "#Add 1st hidden layer\n",
        "model.add(tf.keras.layers.Dense(200,activation='relu'))\n",
        "#model.add(tf.keras.layers.LeakyReLU())\n",
        "model.add(tf.keras.layers.Dropout(0.25))\n",
        "model.add(tf.keras.layers.BatchNormalization())\n",
        "\n",
        "#Add 2nd hidden layer\n",
        "model.add(tf.keras.layers.Dense(100,activation='relu'))\n",
        "#model.add(tf.keras.layers.LeakyReLU())\n",
        "model.add(tf.keras.layers.Dropout(0.25))\n",
        "model.add(tf.keras.layers.BatchNormalization())"
      ],
      "execution_count": 0,
      "outputs": []
    },
    {
      "cell_type": "markdown",
      "metadata": {
        "id": "5I8f5otcQlDJ",
        "colab_type": "text"
      },
      "source": [
        "### Add the output layer with a fully connected layer with 10 neurons with `softmax` activation. Use `categorical_crossentropy` loss and `adam` optimizer and train the network. And, report the final validation."
      ]
    },
    {
      "cell_type": "code",
      "metadata": {
        "id": "JZkvKymSd0Sr",
        "colab_type": "code",
        "colab": {}
      },
      "source": [
        "#Add OUTPUT layer\n",
        "from keras import regularizers\n",
        "model.add(tf.keras.layers.Dense(10, activation='softmax',kernel_initializer='lecun_uniform'))\n",
        "model.compile(optimizer='adam', loss='categorical_crossentropy', metrics=['accuracy'])"
      ],
      "execution_count": 0,
      "outputs": []
    },
    {
      "cell_type": "code",
      "metadata": {
        "id": "VABa54KHOtkx",
        "colab_type": "code",
        "outputId": "36d96904-9397-4780-b866-239e9333a883",
        "colab": {
          "base_uri": "https://localhost:8080/",
          "height": 459
        }
      },
      "source": [
        "model.summary()"
      ],
      "execution_count": 255,
      "outputs": [
        {
          "output_type": "stream",
          "text": [
            "Model: \"sequential\"\n",
            "_________________________________________________________________\n",
            "Layer (type)                 Output Shape              Param #   \n",
            "=================================================================\n",
            "reshape (Reshape)            (None, 784)               0         \n",
            "_________________________________________________________________\n",
            "batch_normalization (BatchNo (None, 784)               3136      \n",
            "_________________________________________________________________\n",
            "dense (Dense)                (None, 200)               157000    \n",
            "_________________________________________________________________\n",
            "dropout (Dropout)            (None, 200)               0         \n",
            "_________________________________________________________________\n",
            "batch_normalization_1 (Batch (None, 200)               800       \n",
            "_________________________________________________________________\n",
            "dense_1 (Dense)              (None, 100)               20100     \n",
            "_________________________________________________________________\n",
            "dropout_1 (Dropout)          (None, 100)               0         \n",
            "_________________________________________________________________\n",
            "batch_normalization_2 (Batch (None, 100)               400       \n",
            "_________________________________________________________________\n",
            "dense_2 (Dense)              (None, 10)                1010      \n",
            "=================================================================\n",
            "Total params: 182,446\n",
            "Trainable params: 180,278\n",
            "Non-trainable params: 2,168\n",
            "_________________________________________________________________\n"
          ],
          "name": "stdout"
        }
      ]
    },
    {
      "cell_type": "code",
      "metadata": {
        "id": "tWEKZoMGOxdr",
        "colab_type": "code",
        "outputId": "15a00eb7-00ed-4f4c-c03b-53ceb9a7c57f",
        "colab": {
          "base_uri": "https://localhost:8080/",
          "height": 731
        }
      },
      "source": [
        "model.fit(trainX,trainY,          \n",
        "          validation_data=(testX,testY),\n",
        "          epochs=20,\n",
        "          batch_size=150)"
      ],
      "execution_count": 256,
      "outputs": [
        {
          "output_type": "stream",
          "text": [
            "Train on 60000 samples, validate on 10000 samples\n",
            "Epoch 1/20\n",
            "60000/60000 [==============================] - 5s 81us/sample - loss: 0.5595 - accuracy: 0.8078 - val_loss: 0.3993 - val_accuracy: 0.8554\n",
            "Epoch 2/20\n",
            "60000/60000 [==============================] - 4s 62us/sample - loss: 0.4082 - accuracy: 0.8546 - val_loss: 0.3601 - val_accuracy: 0.8689\n",
            "Epoch 3/20\n",
            "60000/60000 [==============================] - 4s 63us/sample - loss: 0.3642 - accuracy: 0.8683 - val_loss: 0.3483 - val_accuracy: 0.8722\n",
            "Epoch 4/20\n",
            "60000/60000 [==============================] - 4s 62us/sample - loss: 0.3388 - accuracy: 0.8772 - val_loss: 0.3479 - val_accuracy: 0.8707\n",
            "Epoch 5/20\n",
            "60000/60000 [==============================] - 4s 62us/sample - loss: 0.3228 - accuracy: 0.8816 - val_loss: 0.3413 - val_accuracy: 0.8764\n",
            "Epoch 6/20\n",
            "60000/60000 [==============================] - 4s 62us/sample - loss: 0.3084 - accuracy: 0.8871 - val_loss: 0.3199 - val_accuracy: 0.8846\n",
            "Epoch 7/20\n",
            "60000/60000 [==============================] - 4s 62us/sample - loss: 0.2982 - accuracy: 0.8906 - val_loss: 0.3237 - val_accuracy: 0.8798\n",
            "Epoch 8/20\n",
            "60000/60000 [==============================] - 4s 62us/sample - loss: 0.2833 - accuracy: 0.8969 - val_loss: 0.3149 - val_accuracy: 0.8879\n",
            "Epoch 9/20\n",
            "60000/60000 [==============================] - 4s 63us/sample - loss: 0.2758 - accuracy: 0.8978 - val_loss: 0.3186 - val_accuracy: 0.8872\n",
            "Epoch 10/20\n",
            "60000/60000 [==============================] - 4s 62us/sample - loss: 0.2665 - accuracy: 0.9014 - val_loss: 0.3149 - val_accuracy: 0.8863\n",
            "Epoch 11/20\n",
            "60000/60000 [==============================] - 4s 62us/sample - loss: 0.2596 - accuracy: 0.9029 - val_loss: 0.3197 - val_accuracy: 0.8877\n",
            "Epoch 12/20\n",
            "60000/60000 [==============================] - 4s 62us/sample - loss: 0.2522 - accuracy: 0.9062 - val_loss: 0.3115 - val_accuracy: 0.8897\n",
            "Epoch 13/20\n",
            "60000/60000 [==============================] - 4s 63us/sample - loss: 0.2443 - accuracy: 0.9081 - val_loss: 0.3101 - val_accuracy: 0.8910\n",
            "Epoch 14/20\n",
            "60000/60000 [==============================] - 4s 63us/sample - loss: 0.2390 - accuracy: 0.9103 - val_loss: 0.3207 - val_accuracy: 0.8904\n",
            "Epoch 15/20\n",
            "60000/60000 [==============================] - 4s 62us/sample - loss: 0.2353 - accuracy: 0.9114 - val_loss: 0.3168 - val_accuracy: 0.8914\n",
            "Epoch 16/20\n",
            "60000/60000 [==============================] - 4s 62us/sample - loss: 0.2288 - accuracy: 0.9144 - val_loss: 0.3127 - val_accuracy: 0.8940\n",
            "Epoch 17/20\n",
            "60000/60000 [==============================] - 4s 64us/sample - loss: 0.2263 - accuracy: 0.9140 - val_loss: 0.3088 - val_accuracy: 0.8889\n",
            "Epoch 18/20\n",
            "60000/60000 [==============================] - 4s 63us/sample - loss: 0.2210 - accuracy: 0.9168 - val_loss: 0.3130 - val_accuracy: 0.8931\n",
            "Epoch 19/20\n",
            "60000/60000 [==============================] - 4s 63us/sample - loss: 0.2141 - accuracy: 0.9183 - val_loss: 0.3158 - val_accuracy: 0.8939\n",
            "Epoch 20/20\n",
            "60000/60000 [==============================] - 4s 63us/sample - loss: 0.2111 - accuracy: 0.9198 - val_loss: 0.3158 - val_accuracy: 0.8970\n"
          ],
          "name": "stdout"
        },
        {
          "output_type": "execute_result",
          "data": {
            "text/plain": [
              "<tensorflow.python.keras.callbacks.History at 0x7f9159b83160>"
            ]
          },
          "metadata": {
            "tags": []
          },
          "execution_count": 256
        }
      ]
    }
  ]
}