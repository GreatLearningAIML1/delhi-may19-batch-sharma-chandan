{
 "cells": [
  {
   "cell_type": "code",
   "execution_count": 35,
   "metadata": {},
   "outputs": [
    {
     "data": {
      "text/html": [
       "<div>\n",
       "<style scoped>\n",
       "    .dataframe tbody tr th:only-of-type {\n",
       "        vertical-align: middle;\n",
       "    }\n",
       "\n",
       "    .dataframe tbody tr th {\n",
       "        vertical-align: top;\n",
       "    }\n",
       "\n",
       "    .dataframe thead th {\n",
       "        text-align: right;\n",
       "    }\n",
       "</style>\n",
       "<table border=\"1\" class=\"dataframe\">\n",
       "  <thead>\n",
       "    <tr style=\"text-align: right;\">\n",
       "      <th></th>\n",
       "      <th>SALESPERSON</th>\n",
       "      <th>Old Scheme (in thousands)</th>\n",
       "      <th>New Scheme (in thousands)</th>\n",
       "    </tr>\n",
       "  </thead>\n",
       "  <tbody>\n",
       "    <tr>\n",
       "      <th>0</th>\n",
       "      <td>1</td>\n",
       "      <td>57000</td>\n",
       "      <td>62000</td>\n",
       "    </tr>\n",
       "    <tr>\n",
       "      <th>1</th>\n",
       "      <td>2</td>\n",
       "      <td>103000</td>\n",
       "      <td>122000</td>\n",
       "    </tr>\n",
       "    <tr>\n",
       "      <th>2</th>\n",
       "      <td>3</td>\n",
       "      <td>59000</td>\n",
       "      <td>54000</td>\n",
       "    </tr>\n",
       "    <tr>\n",
       "      <th>3</th>\n",
       "      <td>4</td>\n",
       "      <td>75000</td>\n",
       "      <td>82000</td>\n",
       "    </tr>\n",
       "    <tr>\n",
       "      <th>4</th>\n",
       "      <td>5</td>\n",
       "      <td>84000</td>\n",
       "      <td>84000</td>\n",
       "    </tr>\n",
       "    <tr>\n",
       "      <th>5</th>\n",
       "      <td>6</td>\n",
       "      <td>73000</td>\n",
       "      <td>86000</td>\n",
       "    </tr>\n",
       "    <tr>\n",
       "      <th>6</th>\n",
       "      <td>7</td>\n",
       "      <td>35000</td>\n",
       "      <td>32000</td>\n",
       "    </tr>\n",
       "    <tr>\n",
       "      <th>7</th>\n",
       "      <td>8</td>\n",
       "      <td>110000</td>\n",
       "      <td>104000</td>\n",
       "    </tr>\n",
       "    <tr>\n",
       "      <th>8</th>\n",
       "      <td>9</td>\n",
       "      <td>44000</td>\n",
       "      <td>38000</td>\n",
       "    </tr>\n",
       "    <tr>\n",
       "      <th>9</th>\n",
       "      <td>10</td>\n",
       "      <td>82000</td>\n",
       "      <td>107000</td>\n",
       "    </tr>\n",
       "  </tbody>\n",
       "</table>\n",
       "</div>"
      ],
      "text/plain": [
       "   SALESPERSON  Old Scheme (in thousands)  New Scheme (in thousands)\n",
       "0            1                      57000                      62000\n",
       "1            2                     103000                     122000\n",
       "2            3                      59000                      54000\n",
       "3            4                      75000                      82000\n",
       "4            5                      84000                      84000\n",
       "5            6                      73000                      86000\n",
       "6            7                      35000                      32000\n",
       "7            8                     110000                     104000\n",
       "8            9                      44000                      38000\n",
       "9           10                      82000                     107000"
      ]
     },
     "execution_count": 35,
     "metadata": {},
     "output_type": "execute_result"
    }
   ],
   "source": [
    "import numpy as np\n",
    "import pandas as pd\n",
    "%matplotlib inline\n",
    "data = pd.read_csv(\"titan.csv\")\n",
    "data['Old Scheme (in thousands)'] = data['Old Scheme (in thousands)']*1000\n",
    "data['New Scheme (in thousands)'] = data['New Scheme (in thousands)']*1000\n",
    "data.head(10)"
   ]
  },
  {
   "cell_type": "markdown",
   "metadata": {},
   "source": [
    "### 1. Find the mean of old scheme and new scheme column."
   ]
  },
  {
   "cell_type": "code",
   "execution_count": 36,
   "metadata": {},
   "outputs": [],
   "source": [
    "mean_old_scheme = data['Old Scheme (in thousands)'].mean()\n",
    "mean_new_scheme = data['New Scheme (in thousands)'].mean()"
   ]
  },
  {
   "cell_type": "code",
   "execution_count": 37,
   "metadata": {},
   "outputs": [
    {
     "name": "stdout",
     "output_type": "stream",
     "text": [
      "Old Scheme Mean :  68033.33333333333\n",
      "New Scheme Mean :  72033.33333333333\n"
     ]
    }
   ],
   "source": [
    "print(\"Old Scheme Mean : \", mean_old_scheme)\n",
    "print(\"New Scheme Mean : \", mean_new_scheme)"
   ]
  },
  {
   "cell_type": "markdown",
   "metadata": {},
   "source": [
    "### 2. Use the five percent significance test over the data to determine the p value to check new scheme has significantly raised outputs? "
   ]
  },
  {
   "cell_type": "code",
   "execution_count": 38,
   "metadata": {},
   "outputs": [
    {
     "name": "stdout",
     "output_type": "stream",
     "text": [
      "1.5559143823544377 0.13057553961337662\n",
      "two-sample t-test p-value= 0.13057553961337662\n",
      "p_value greater than 0.05, NULL hypothesis is true\n"
     ]
    }
   ],
   "source": [
    "from scipy import stats\n",
    "from scipy.stats import ttest_1samp\n",
    "\n",
    "\n",
    "t_statistic, p_value = stats.ttest_rel(data['New Scheme (in thousands)'],data['Old Scheme (in thousands)'])\n",
    "print(t_statistic,p_value)\n",
    "# Null Hypothesis : new scheme has not significantly raised outputs\n",
    "# Alternate Hypothesis : new scheme has significantly raised outputs\n",
    "print (\"two-sample t-test p-value=\", p_value)\n",
    "# p_value < 0.05 => alternate hypothesis:\n",
    "print(\"p_value greater than 0.05, NULL hypothesis is true\")"
   ]
  },
  {
   "cell_type": "markdown",
   "metadata": {},
   "source": [
    "### 3. What conclusion does the test (p-value) lead to? (2.5 points)"
   ]
  },
  {
   "cell_type": "markdown",
   "metadata": {},
   "source": [
    "##### p-value is greater than 0.05 hence Null hypothesis is true\n",
    "##### Conclusion of the test is \"new scheme has not significantly raised outputs\""
   ]
  },
  {
   "cell_type": "markdown",
   "metadata": {},
   "source": [
    "### 4. Suppose it has been calculated that in order for Titan to break even, the average output must increase by £5000 in the scheme compared to the old scheme. If this figure is alternative hypothesis, what is:\n",
    "        a) The probability of a type 1 error?\n",
    "        b) What is the p- value of the hypothesis test if we test for a difference of $5000?\n",
    "        c) Power of the test"
   ]
  },
  {
   "cell_type": "markdown",
   "metadata": {},
   "source": [
    "#### a) The probability of a type 1 error?\n",
    "A Type 1 error is the case when we reject the null hypothesis while it was true. Probability of Type 1 error is same as significance level given above i.e. 5%"
   ]
  },
  {
   "cell_type": "markdown",
   "metadata": {},
   "source": [
    "#### b) What is the p- value of the hypothesis test if we test for a difference of $5000?\n",
    "Null hypothesis : difference is less than equal to 5000<br>\n",
    "Alternate hypothesie : difference is greater than 5000"
   ]
  },
  {
   "cell_type": "code",
   "execution_count": 39,
   "metadata": {},
   "outputs": [
    {
     "name": "stdout",
     "output_type": "stream",
     "text": [
      "1.5559143823544377 0.13057553961337662\n",
      "difference of mean :  4000.0\n",
      "p_value greater than 0.05, NULL hypothesis is true\n",
      "p-value if we test for the difference of $5000 is  0.13057553961337662\n"
     ]
    }
   ],
   "source": [
    "t_statistic, p_value = stats.ttest_rel(data['New Scheme (in thousands)'],data['Old Scheme (in thousands)'])\n",
    "print(t_statistic,p_value)\n",
    "\n",
    "# p_value < 0.05 => alternate hypothesis:\n",
    "mean_of_difference = data['New Scheme (in thousands)'].mean() - data['Old Scheme (in thousands)'].mean()\n",
    "print(\"difference of mean : \",mean_of_difference)\n",
    "print(\"p_value greater than 0.05, NULL hypothesis is true\")\n",
    "\n",
    "print (\"p-value if we test for the difference of $5000 is \", p_value)\n"
   ]
  },
  {
   "cell_type": "markdown",
   "metadata": {},
   "source": [
    "#### c) power of the test"
   ]
  },
  {
   "cell_type": "code",
   "execution_count": 40,
   "metadata": {},
   "outputs": [
    {
     "name": "stdout",
     "output_type": "stream",
     "text": [
      "probability of type 2 error 13% \n"
     ]
    }
   ],
   "source": [
    "print(\"probability of type 2 error 13% \" )"
   ]
  },
  {
   "cell_type": "code",
   "execution_count": 41,
   "metadata": {},
   "outputs": [
    {
     "name": "stdout",
     "output_type": "stream",
     "text": [
      "Power of the hypothesis test is 1 minus the probability of Type II error\n",
      "Power of test :  0.8694244603866234\n"
     ]
    }
   ],
   "source": [
    "print(\"Power of the hypothesis test is 1 minus the probability of Type II error\")\n",
    "power_of_test = 1 - p_value\n",
    "print(\"Power of test : \",power_of_test)"
   ]
  },
  {
   "cell_type": "code",
   "execution_count": null,
   "metadata": {},
   "outputs": [],
   "source": []
  }
 ],
 "metadata": {
  "kernelspec": {
   "display_name": "Python 3",
   "language": "python",
   "name": "python3"
  },
  "language_info": {
   "codemirror_mode": {
    "name": "ipython",
    "version": 3
   },
   "file_extension": ".py",
   "mimetype": "text/x-python",
   "name": "python",
   "nbconvert_exporter": "python",
   "pygments_lexer": "ipython3",
   "version": "3.7.3"
  }
 },
 "nbformat": 4,
 "nbformat_minor": 2
}
