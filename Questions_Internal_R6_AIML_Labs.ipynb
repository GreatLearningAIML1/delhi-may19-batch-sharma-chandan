{
  "nbformat": 4,
  "nbformat_minor": 0,
  "metadata": {
    "colab": {
      "name": "Questions - Internal - R6 - AIML Labs.ipynb",
      "provenance": [],
      "collapsed_sections": []
    },
    "kernelspec": {
      "name": "python3",
      "display_name": "Python 3"
    }
  },
  "cells": [
    {
      "cell_type": "markdown",
      "metadata": {
        "id": "zUZjPnVXGz0Z",
        "colab_type": "text"
      },
      "source": [
        "# The Iris Dataset\n",
        "The data set consists of 50 samples from each of three species of Iris (Iris setosa, Iris virginica and Iris versicolor). Four features were measured from each sample: the length and the width of the sepals and petals, in centimeters.\n",
        "\n",
        "The dataset contains a set of 150 records under five attributes - petal length, petal width, sepal length, sepal width and species."
      ]
    },
    {
      "cell_type": "markdown",
      "metadata": {
        "id": "RMbmpriavLE9",
        "colab_type": "text"
      },
      "source": [
        "### Specifying the TensorFlow version\n",
        "Running `import tensorflow` will import the default version (currently 1.x). You can use 2.x by running a cell with the `tensorflow_version` magic **before** you run `import tensorflow`."
      ]
    },
    {
      "cell_type": "code",
      "metadata": {
        "colab_type": "code",
        "id": "fu8bUU__oa7h",
        "colab": {}
      },
      "source": [
        "%tensorflow_version 2.x"
      ],
      "execution_count": 0,
      "outputs": []
    },
    {
      "cell_type": "markdown",
      "metadata": {
        "colab_type": "text",
        "id": "bLz1Ckvfvn6D"
      },
      "source": [
        "### Import TensorFlow\n",
        "Once you have specified a version via this magic, you can run `import tensorflow` as normal and verify which version was imported as follows:"
      ]
    },
    {
      "cell_type": "code",
      "metadata": {
        "colab_type": "code",
        "id": "CWrzVTLOvn6M",
        "colab": {
          "base_uri": "https://localhost:8080/",
          "height": 34
        },
        "outputId": "c041c364-dc64-4c62-8caa-41f360cc1f77"
      },
      "source": [
        "import tensorflow as tf\n",
        "print(tf.__version__)"
      ],
      "execution_count": 45,
      "outputs": [
        {
          "output_type": "stream",
          "text": [
            "2.0.0\n"
          ],
          "name": "stdout"
        }
      ]
    },
    {
      "cell_type": "markdown",
      "metadata": {
        "id": "_uYeJgkNuXNC",
        "colab_type": "text"
      },
      "source": [
        "### Set random seed"
      ]
    },
    {
      "cell_type": "code",
      "metadata": {
        "id": "lcASNsewsfQX",
        "colab_type": "code",
        "colab": {}
      },
      "source": [
        "tf.random.set_seed(42)"
      ],
      "execution_count": 0,
      "outputs": []
    },
    {
      "cell_type": "code",
      "metadata": {
        "colab_type": "code",
        "id": "y0AS13202MCI",
        "colab": {}
      },
      "source": [
        "import pandas as pd\n",
        "from tensorflow.keras.models import Sequential\n",
        "from tensorflow.keras.layers import Dense\n",
        "from sklearn import model_selection\n",
        "from sklearn.model_selection import train_test_split\n",
        "from sklearn.preprocessing import LabelEncoder, OneHotEncoder\n",
        "from sklearn.metrics import confusion_matrix\n"
      ],
      "execution_count": 0,
      "outputs": []
    },
    {
      "cell_type": "markdown",
      "metadata": {
        "id": "5-vVQBBqg7DI",
        "colab_type": "text"
      },
      "source": [
        "## Question 1"
      ]
    },
    {
      "cell_type": "markdown",
      "metadata": {
        "id": "kE0EDKvQhEIe",
        "colab_type": "text"
      },
      "source": [
        "### Import dataset\n",
        "- Import iris dataset\n",
        "- Import the dataset using sklearn library"
      ]
    },
    {
      "cell_type": "code",
      "metadata": {
        "id": "IOOWpD26Haq3",
        "colab_type": "code",
        "colab": {}
      },
      "source": [
        "from sklearn.datasets import load_iris\n",
        "iris_data = load_iris()\n",
        "#iris_data"
      ],
      "execution_count": 0,
      "outputs": []
    },
    {
      "cell_type": "markdown",
      "metadata": {
        "id": "ta8YqInTh5v5",
        "colab_type": "text"
      },
      "source": [
        "## Question 2"
      ]
    },
    {
      "cell_type": "markdown",
      "metadata": {
        "id": "HERt3drbhX0i",
        "colab_type": "text"
      },
      "source": [
        "### Get features and label from the dataset in separate variable\n",
        "- you can get the features using .data method\n",
        "- you can get the features using .target method"
      ]
    },
    {
      "cell_type": "code",
      "metadata": {
        "id": "0cV-_qHAHyvE",
        "colab_type": "code",
        "colab": {}
      },
      "source": [
        "data = iris_data.data\n",
        "target = iris_data.target\n",
        "#print(target.reshape(-1, 1))"
      ],
      "execution_count": 0,
      "outputs": []
    },
    {
      "cell_type": "code",
      "metadata": {
        "id": "Wfkd1kgpSS7u",
        "colab_type": "code",
        "colab": {}
      },
      "source": [
        "import pandas as pd\n",
        "import numpy as np\n",
        "\n",
        "df = pd.DataFrame(data= np.c_[data, target],\n",
        "                     columns= iris_data['feature_names'] + ['target'])\n",
        "\n",
        "data = df.drop('target', axis = 1)\n",
        "target = df['target']"
      ],
      "execution_count": 0,
      "outputs": []
    },
    {
      "cell_type": "markdown",
      "metadata": {
        "id": "Qg1A2lkUjFak",
        "colab_type": "text"
      },
      "source": [
        "## Question 3"
      ]
    },
    {
      "cell_type": "markdown",
      "metadata": {
        "colab_type": "text",
        "id": "3YErwYLCH0N_"
      },
      "source": [
        "### Create train and test data\n",
        "- use train_test_split to get train and test set\n",
        "- set a random_state\n",
        "- test_size: 0.25"
      ]
    },
    {
      "cell_type": "code",
      "metadata": {
        "id": "TYKNJL85h7pQ",
        "colab_type": "code",
        "colab": {}
      },
      "source": [
        "X_train, X_test, y_train, y_test = train_test_split(data,target, test_size = 0.25, random_state = 0)"
      ],
      "execution_count": 0,
      "outputs": []
    },
    {
      "cell_type": "markdown",
      "metadata": {
        "id": "g0KVP17Ozaix",
        "colab_type": "text"
      },
      "source": [
        "## Question 4"
      ]
    },
    {
      "cell_type": "markdown",
      "metadata": {
        "id": "SIjqxbhWv1zv",
        "colab_type": "text"
      },
      "source": [
        "### One-hot encode the labels\n",
        "- convert class vectors (integers) to binary class matrix\n",
        "- convert labels\n",
        "- number of classes: 3\n",
        "- we are doing this to use categorical_crossentropy as loss"
      ]
    },
    {
      "cell_type": "code",
      "metadata": {
        "colab_type": "code",
        "id": "R9vv-_gpyLY9",
        "colab": {}
      },
      "source": [
        "#encoder = OneHotEncoder(categorical_features = [0])\n",
        "#y = encoder.fit_transform(target)\n",
        "#y.shape\n",
        "\n",
        "#X_train, X_test, y_train, y_test = train_test_split(data,y, test_size = 0.25, random_state = 0)\n",
        "#y_train = encoder.fit_transform(y_train.reshape(-1, 1)).toarray()\n",
        "#y_test = encoder.fit_transform(y_test.reshape(-1, 1)).toarray()\n",
        "\n",
        "y_train = tf.keras.utils.to_categorical(y_train, num_classes = 3)\n",
        "y_test = tf.keras.utils.to_categorical(y_test, num_classes = 3)"
      ],
      "execution_count": 0,
      "outputs": []
    },
    {
      "cell_type": "code",
      "metadata": {
        "id": "fEhzJOXARLk-",
        "colab_type": "code",
        "colab": {
          "base_uri": "https://localhost:8080/",
          "height": 34
        },
        "outputId": "19eb901c-4cf4-4b79-ee61-4b8c1abfa4b9"
      },
      "source": [
        "y_train.shape\n",
        "X_train.shape"
      ],
      "execution_count": 199,
      "outputs": [
        {
          "output_type": "execute_result",
          "data": {
            "text/plain": [
              "(112, 4)"
            ]
          },
          "metadata": {
            "tags": []
          },
          "execution_count": 199
        }
      ]
    },
    {
      "cell_type": "markdown",
      "metadata": {
        "colab_type": "text",
        "id": "ovjLyYzWkO9s"
      },
      "source": [
        "## Question 5"
      ]
    },
    {
      "cell_type": "markdown",
      "metadata": {
        "id": "hbIFzoPNSyYo",
        "colab_type": "text"
      },
      "source": [
        "### Initialize a sequential model\n",
        "- Define a sequential model"
      ]
    },
    {
      "cell_type": "code",
      "metadata": {
        "id": "4FvSbf1UjHtl",
        "colab_type": "code",
        "colab": {}
      },
      "source": [
        "model = Sequential()"
      ],
      "execution_count": 0,
      "outputs": []
    },
    {
      "cell_type": "markdown",
      "metadata": {
        "colab_type": "text",
        "id": "dGMy999vlacX"
      },
      "source": [
        "## Question 6"
      ]
    },
    {
      "cell_type": "markdown",
      "metadata": {
        "id": "72ibK5Jxm8iL",
        "colab_type": "text"
      },
      "source": [
        "### Add a layer\n",
        "- Use Dense Layer  with input shape of 4 (according to the feature set) and number of outputs set to 3\n",
        "- Apply Softmax on Dense Layer outputs"
      ]
    },
    {
      "cell_type": "code",
      "metadata": {
        "id": "uZKrBNSRm_o9",
        "colab_type": "code",
        "colab": {}
      },
      "source": [
        "model.add(Dense(4, input_shape=(4,)))\n",
        "model.add(Dense(3, activation='softmax', name='output'))\n"
      ],
      "execution_count": 0,
      "outputs": []
    },
    {
      "cell_type": "markdown",
      "metadata": {
        "id": "i4uiTH8plmNX",
        "colab_type": "text"
      },
      "source": [
        "## Question 7"
      ]
    },
    {
      "cell_type": "markdown",
      "metadata": {
        "id": "yJL8n8vcSyYz",
        "colab_type": "text"
      },
      "source": [
        "### Compile the model\n",
        "- Use SGD as Optimizer\n",
        "- Use categorical_crossentropy as loss function\n",
        "- Use accuracy as metrics"
      ]
    },
    {
      "cell_type": "code",
      "metadata": {
        "id": "Tc_-fjIEk1ve",
        "colab_type": "code",
        "colab": {}
      },
      "source": [
        "model.compile(optimizer='SGD', loss='categorical_crossentropy', metrics=['accuracy'])"
      ],
      "execution_count": 0,
      "outputs": []
    },
    {
      "cell_type": "markdown",
      "metadata": {
        "colab_type": "text",
        "id": "sihIGbRll_jT"
      },
      "source": [
        "## Question 8"
      ]
    },
    {
      "cell_type": "markdown",
      "metadata": {
        "id": "54ZZCfNGlu0i",
        "colab_type": "text"
      },
      "source": [
        "### Summarize the model\n",
        "- Check model layers\n",
        "- Understand number of trainable parameters"
      ]
    },
    {
      "cell_type": "code",
      "metadata": {
        "id": "elER3F_4ln8n",
        "colab_type": "code",
        "colab": {
          "base_uri": "https://localhost:8080/",
          "height": 221
        },
        "outputId": "4fff1eeb-5437-4f16-fdab-0839550435bd"
      },
      "source": [
        "model.summary()"
      ],
      "execution_count": 203,
      "outputs": [
        {
          "output_type": "stream",
          "text": [
            "Model: \"sequential_7\"\n",
            "_________________________________________________________________\n",
            "Layer (type)                 Output Shape              Param #   \n",
            "=================================================================\n",
            "dense_7 (Dense)              (None, 4)                 20        \n",
            "_________________________________________________________________\n",
            "output (Dense)               (None, 3)                 15        \n",
            "=================================================================\n",
            "Total params: 35\n",
            "Trainable params: 35\n",
            "Non-trainable params: 0\n",
            "_________________________________________________________________\n"
          ],
          "name": "stdout"
        }
      ]
    },
    {
      "cell_type": "markdown",
      "metadata": {
        "colab_type": "text",
        "id": "2PiP7j3Vmj4p"
      },
      "source": [
        "## Question 9"
      ]
    },
    {
      "cell_type": "markdown",
      "metadata": {
        "id": "rWdbfFCXmCHt",
        "colab_type": "text"
      },
      "source": [
        "### Fit the model\n",
        "- Give train data as training features and labels\n",
        "- Epochs: 100\n",
        "- Give validation data as testing features and labels"
      ]
    },
    {
      "cell_type": "code",
      "metadata": {
        "id": "cO1c-5tjmBVZ",
        "colab_type": "code",
        "colab": {
          "base_uri": "https://localhost:8080/",
          "height": 1000
        },
        "outputId": "954ad4c0-66d8-4280-a045-ffd6ef65c325"
      },
      "source": [
        "model.fit(X_train, y_train,           \n",
        "          validation_data=(X_test,y_test),\n",
        "          epochs=100,\n",
        "          batch_size=32)"
      ],
      "execution_count": 204,
      "outputs": [
        {
          "output_type": "stream",
          "text": [
            "WARNING:tensorflow:Falling back from v2 loop because of error: Failed to find data adapter that can handle input: <class 'pandas.core.frame.DataFrame'>, <class 'NoneType'>\n",
            "Train on 112 samples, validate on 38 samples\n",
            "Epoch 1/100\n",
            "112/112 [==============================] - 0s 1ms/sample - loss: 2.8244 - accuracy: 0.3125 - val_loss: 2.5260 - val_accuracy: 0.2368\n",
            "Epoch 2/100\n",
            "112/112 [==============================] - 0s 131us/sample - loss: 2.2347 - accuracy: 0.3571 - val_loss: 2.1175 - val_accuracy: 0.1579\n",
            "Epoch 3/100\n",
            "112/112 [==============================] - 0s 166us/sample - loss: 2.0155 - accuracy: 0.0982 - val_loss: 1.9715 - val_accuracy: 0.0263\n",
            "Epoch 4/100\n",
            "112/112 [==============================] - 0s 164us/sample - loss: 1.8732 - accuracy: 0.0536 - val_loss: 1.8577 - val_accuracy: 0.1053\n",
            "Epoch 5/100\n",
            "112/112 [==============================] - 0s 165us/sample - loss: 1.7586 - accuracy: 0.2857 - val_loss: 1.7010 - val_accuracy: 0.0789\n",
            "Epoch 6/100\n",
            "112/112 [==============================] - 0s 207us/sample - loss: 1.6420 - accuracy: 0.1518 - val_loss: 1.5778 - val_accuracy: 0.3947\n",
            "Epoch 7/100\n",
            "112/112 [==============================] - 0s 156us/sample - loss: 1.5581 - accuracy: 0.1518 - val_loss: 1.5414 - val_accuracy: 0.0000e+00\n",
            "Epoch 8/100\n",
            "112/112 [==============================] - 0s 159us/sample - loss: 1.4460 - accuracy: 0.0714 - val_loss: 1.4566 - val_accuracy: 0.1579\n",
            "Epoch 9/100\n",
            "112/112 [==============================] - 0s 166us/sample - loss: 1.3524 - accuracy: 0.3214 - val_loss: 1.3356 - val_accuracy: 0.1579\n",
            "Epoch 10/100\n",
            "112/112 [==============================] - 0s 187us/sample - loss: 1.2689 - accuracy: 0.3393 - val_loss: 1.2234 - val_accuracy: 0.1316\n",
            "Epoch 11/100\n",
            "112/112 [==============================] - 0s 171us/sample - loss: 1.2024 - accuracy: 0.1071 - val_loss: 1.2209 - val_accuracy: 0.2105\n",
            "Epoch 12/100\n",
            "112/112 [==============================] - 0s 163us/sample - loss: 1.1426 - accuracy: 0.3125 - val_loss: 1.1643 - val_accuracy: 0.2105\n",
            "Epoch 13/100\n",
            "112/112 [==============================] - 0s 196us/sample - loss: 1.0937 - accuracy: 0.2679 - val_loss: 1.1256 - val_accuracy: 0.2368\n",
            "Epoch 14/100\n",
            "112/112 [==============================] - 0s 152us/sample - loss: 1.0463 - accuracy: 0.3482 - val_loss: 1.0158 - val_accuracy: 0.1316\n",
            "Epoch 15/100\n",
            "112/112 [==============================] - 0s 153us/sample - loss: 0.9982 - accuracy: 0.2143 - val_loss: 0.9894 - val_accuracy: 0.2105\n",
            "Epoch 16/100\n",
            "112/112 [==============================] - 0s 155us/sample - loss: 0.9740 - accuracy: 0.2768 - val_loss: 0.9844 - val_accuracy: 0.5526\n",
            "Epoch 17/100\n",
            "112/112 [==============================] - 0s 171us/sample - loss: 0.9352 - accuracy: 0.5536 - val_loss: 0.9181 - val_accuracy: 0.3158\n",
            "Epoch 18/100\n",
            "112/112 [==============================] - 0s 144us/sample - loss: 0.9071 - accuracy: 0.3482 - val_loss: 0.9263 - val_accuracy: 0.5526\n",
            "Epoch 19/100\n",
            "112/112 [==============================] - 0s 139us/sample - loss: 0.8748 - accuracy: 0.6786 - val_loss: 0.8745 - val_accuracy: 0.4737\n",
            "Epoch 20/100\n",
            "112/112 [==============================] - 0s 166us/sample - loss: 0.8505 - accuracy: 0.6161 - val_loss: 0.8581 - val_accuracy: 0.4737\n",
            "Epoch 21/100\n",
            "112/112 [==============================] - 0s 184us/sample - loss: 0.8312 - accuracy: 0.6250 - val_loss: 0.8186 - val_accuracy: 0.4737\n",
            "Epoch 22/100\n",
            "112/112 [==============================] - 0s 162us/sample - loss: 0.8095 - accuracy: 0.5625 - val_loss: 0.8271 - val_accuracy: 0.5526\n",
            "Epoch 23/100\n",
            "112/112 [==============================] - 0s 134us/sample - loss: 0.7924 - accuracy: 0.6696 - val_loss: 0.8165 - val_accuracy: 0.5526\n",
            "Epoch 24/100\n",
            "112/112 [==============================] - 0s 133us/sample - loss: 0.7749 - accuracy: 0.6429 - val_loss: 0.7910 - val_accuracy: 0.5263\n",
            "Epoch 25/100\n",
            "112/112 [==============================] - 0s 155us/sample - loss: 0.7616 - accuracy: 0.5625 - val_loss: 0.8172 - val_accuracy: 0.5789\n",
            "Epoch 26/100\n",
            "112/112 [==============================] - 0s 122us/sample - loss: 0.7488 - accuracy: 0.6964 - val_loss: 0.7597 - val_accuracy: 0.5000\n",
            "Epoch 27/100\n",
            "112/112 [==============================] - 0s 157us/sample - loss: 0.7369 - accuracy: 0.5804 - val_loss: 0.7791 - val_accuracy: 0.5789\n",
            "Epoch 28/100\n",
            "112/112 [==============================] - 0s 141us/sample - loss: 0.7222 - accuracy: 0.6964 - val_loss: 0.7141 - val_accuracy: 0.4474\n",
            "Epoch 29/100\n",
            "112/112 [==============================] - 0s 141us/sample - loss: 0.7175 - accuracy: 0.5536 - val_loss: 0.7067 - val_accuracy: 0.4737\n",
            "Epoch 30/100\n",
            "112/112 [==============================] - 0s 180us/sample - loss: 0.7002 - accuracy: 0.5893 - val_loss: 0.7249 - val_accuracy: 0.5526\n",
            "Epoch 31/100\n",
            "112/112 [==============================] - 0s 168us/sample - loss: 0.6924 - accuracy: 0.6696 - val_loss: 0.7284 - val_accuracy: 0.5526\n",
            "Epoch 32/100\n",
            "112/112 [==============================] - 0s 224us/sample - loss: 0.6805 - accuracy: 0.6875 - val_loss: 0.7109 - val_accuracy: 0.5526\n",
            "Epoch 33/100\n",
            "112/112 [==============================] - 0s 249us/sample - loss: 0.6857 - accuracy: 0.5982 - val_loss: 0.6979 - val_accuracy: 0.5526\n",
            "Epoch 34/100\n",
            "112/112 [==============================] - 0s 162us/sample - loss: 0.6657 - accuracy: 0.6875 - val_loss: 0.6911 - val_accuracy: 0.5526\n",
            "Epoch 35/100\n",
            "112/112 [==============================] - 0s 196us/sample - loss: 0.6564 - accuracy: 0.6696 - val_loss: 0.7182 - val_accuracy: 0.5789\n",
            "Epoch 36/100\n",
            "112/112 [==============================] - 0s 197us/sample - loss: 0.6533 - accuracy: 0.6964 - val_loss: 0.6752 - val_accuracy: 0.5526\n",
            "Epoch 37/100\n",
            "112/112 [==============================] - 0s 154us/sample - loss: 0.6441 - accuracy: 0.6964 - val_loss: 0.6631 - val_accuracy: 0.5526\n",
            "Epoch 38/100\n",
            "112/112 [==============================] - 0s 167us/sample - loss: 0.6363 - accuracy: 0.6875 - val_loss: 0.6508 - val_accuracy: 0.5000\n",
            "Epoch 39/100\n",
            "112/112 [==============================] - 0s 192us/sample - loss: 0.6304 - accuracy: 0.6696 - val_loss: 0.6513 - val_accuracy: 0.5526\n",
            "Epoch 40/100\n",
            "112/112 [==============================] - 0s 172us/sample - loss: 0.6264 - accuracy: 0.6607 - val_loss: 0.7017 - val_accuracy: 0.5789\n",
            "Epoch 41/100\n",
            "112/112 [==============================] - 0s 178us/sample - loss: 0.6312 - accuracy: 0.6964 - val_loss: 0.7083 - val_accuracy: 0.5789\n",
            "Epoch 42/100\n",
            "112/112 [==============================] - 0s 167us/sample - loss: 0.6331 - accuracy: 0.6964 - val_loss: 0.6440 - val_accuracy: 0.5526\n",
            "Epoch 43/100\n",
            "112/112 [==============================] - 0s 152us/sample - loss: 0.6084 - accuracy: 0.6786 - val_loss: 0.6715 - val_accuracy: 0.5789\n",
            "Epoch 44/100\n",
            "112/112 [==============================] - 0s 160us/sample - loss: 0.6158 - accuracy: 0.6964 - val_loss: 0.6553 - val_accuracy: 0.5789\n",
            "Epoch 45/100\n",
            "112/112 [==============================] - 0s 168us/sample - loss: 0.5999 - accuracy: 0.6964 - val_loss: 0.6455 - val_accuracy: 0.5789\n",
            "Epoch 46/100\n",
            "112/112 [==============================] - 0s 143us/sample - loss: 0.5992 - accuracy: 0.6875 - val_loss: 0.6276 - val_accuracy: 0.5526\n",
            "Epoch 47/100\n",
            "112/112 [==============================] - 0s 185us/sample - loss: 0.5940 - accuracy: 0.6964 - val_loss: 0.5915 - val_accuracy: 0.5263\n",
            "Epoch 48/100\n",
            "112/112 [==============================] - 0s 190us/sample - loss: 0.5905 - accuracy: 0.6250 - val_loss: 0.6001 - val_accuracy: 0.5263\n",
            "Epoch 49/100\n",
            "112/112 [==============================] - 0s 205us/sample - loss: 0.5909 - accuracy: 0.6696 - val_loss: 0.5858 - val_accuracy: 0.5000\n",
            "Epoch 50/100\n",
            "112/112 [==============================] - 0s 168us/sample - loss: 0.5896 - accuracy: 0.5982 - val_loss: 0.5767 - val_accuracy: 0.5263\n",
            "Epoch 51/100\n",
            "112/112 [==============================] - 0s 185us/sample - loss: 0.5828 - accuracy: 0.5536 - val_loss: 0.5919 - val_accuracy: 0.5526\n",
            "Epoch 52/100\n",
            "112/112 [==============================] - 0s 226us/sample - loss: 0.5710 - accuracy: 0.6696 - val_loss: 0.6306 - val_accuracy: 0.5789\n",
            "Epoch 53/100\n",
            "112/112 [==============================] - 0s 206us/sample - loss: 0.5682 - accuracy: 0.6964 - val_loss: 0.6215 - val_accuracy: 0.5789\n",
            "Epoch 54/100\n",
            "112/112 [==============================] - 0s 248us/sample - loss: 0.5652 - accuracy: 0.6964 - val_loss: 0.6055 - val_accuracy: 0.5789\n",
            "Epoch 55/100\n",
            "112/112 [==============================] - 0s 239us/sample - loss: 0.5602 - accuracy: 0.6964 - val_loss: 0.5938 - val_accuracy: 0.5789\n",
            "Epoch 56/100\n",
            "112/112 [==============================] - 0s 249us/sample - loss: 0.5554 - accuracy: 0.6875 - val_loss: 0.6102 - val_accuracy: 0.5789\n",
            "Epoch 57/100\n",
            "112/112 [==============================] - 0s 237us/sample - loss: 0.5581 - accuracy: 0.6964 - val_loss: 0.6036 - val_accuracy: 0.5789\n",
            "Epoch 58/100\n",
            "112/112 [==============================] - 0s 271us/sample - loss: 0.5512 - accuracy: 0.6875 - val_loss: 0.5959 - val_accuracy: 0.5789\n",
            "Epoch 59/100\n",
            "112/112 [==============================] - 0s 221us/sample - loss: 0.5549 - accuracy: 0.6696 - val_loss: 0.6035 - val_accuracy: 0.5789\n",
            "Epoch 60/100\n",
            "112/112 [==============================] - 0s 237us/sample - loss: 0.5480 - accuracy: 0.6964 - val_loss: 0.5698 - val_accuracy: 0.5789\n",
            "Epoch 61/100\n",
            "112/112 [==============================] - 0s 318us/sample - loss: 0.5406 - accuracy: 0.6875 - val_loss: 0.5636 - val_accuracy: 0.5789\n",
            "Epoch 62/100\n",
            "112/112 [==============================] - 0s 142us/sample - loss: 0.5407 - accuracy: 0.6875 - val_loss: 0.5907 - val_accuracy: 0.5789\n",
            "Epoch 63/100\n",
            "112/112 [==============================] - 0s 187us/sample - loss: 0.5396 - accuracy: 0.6964 - val_loss: 0.5715 - val_accuracy: 0.5789\n",
            "Epoch 64/100\n",
            "112/112 [==============================] - 0s 143us/sample - loss: 0.5331 - accuracy: 0.6964 - val_loss: 0.5595 - val_accuracy: 0.6053\n",
            "Epoch 65/100\n",
            "112/112 [==============================] - 0s 183us/sample - loss: 0.5355 - accuracy: 0.6786 - val_loss: 0.5547 - val_accuracy: 0.5789\n",
            "Epoch 66/100\n",
            "112/112 [==============================] - 0s 164us/sample - loss: 0.5300 - accuracy: 0.6875 - val_loss: 0.5741 - val_accuracy: 0.5789\n",
            "Epoch 67/100\n",
            "112/112 [==============================] - 0s 184us/sample - loss: 0.5242 - accuracy: 0.6964 - val_loss: 0.5589 - val_accuracy: 0.5789\n",
            "Epoch 68/100\n",
            "112/112 [==============================] - 0s 190us/sample - loss: 0.5248 - accuracy: 0.6964 - val_loss: 0.5250 - val_accuracy: 0.6316\n",
            "Epoch 69/100\n",
            "112/112 [==============================] - 0s 216us/sample - loss: 0.5373 - accuracy: 0.6429 - val_loss: 0.5385 - val_accuracy: 0.6053\n",
            "Epoch 70/100\n",
            "112/112 [==============================] - 0s 176us/sample - loss: 0.5218 - accuracy: 0.6875 - val_loss: 0.5483 - val_accuracy: 0.5789\n",
            "Epoch 71/100\n",
            "112/112 [==============================] - 0s 166us/sample - loss: 0.5142 - accuracy: 0.6964 - val_loss: 0.5561 - val_accuracy: 0.5789\n",
            "Epoch 72/100\n",
            "112/112 [==============================] - 0s 175us/sample - loss: 0.5115 - accuracy: 0.6964 - val_loss: 0.5640 - val_accuracy: 0.5789\n",
            "Epoch 73/100\n",
            "112/112 [==============================] - 0s 220us/sample - loss: 0.5082 - accuracy: 0.6964 - val_loss: 0.5523 - val_accuracy: 0.5789\n",
            "Epoch 74/100\n",
            "112/112 [==============================] - 0s 194us/sample - loss: 0.5089 - accuracy: 0.6964 - val_loss: 0.5242 - val_accuracy: 0.6053\n",
            "Epoch 75/100\n",
            "112/112 [==============================] - 0s 167us/sample - loss: 0.5049 - accuracy: 0.7143 - val_loss: 0.5591 - val_accuracy: 0.5789\n",
            "Epoch 76/100\n",
            "112/112 [==============================] - 0s 195us/sample - loss: 0.5045 - accuracy: 0.6964 - val_loss: 0.5847 - val_accuracy: 0.5789\n",
            "Epoch 77/100\n",
            "112/112 [==============================] - 0s 234us/sample - loss: 0.5022 - accuracy: 0.6964 - val_loss: 0.5541 - val_accuracy: 0.5789\n",
            "Epoch 78/100\n",
            "112/112 [==============================] - 0s 165us/sample - loss: 0.5009 - accuracy: 0.6964 - val_loss: 0.5435 - val_accuracy: 0.5789\n",
            "Epoch 79/100\n",
            "112/112 [==============================] - 0s 143us/sample - loss: 0.4986 - accuracy: 0.6964 - val_loss: 0.5031 - val_accuracy: 0.6579\n",
            "Epoch 80/100\n",
            "112/112 [==============================] - 0s 127us/sample - loss: 0.4990 - accuracy: 0.7321 - val_loss: 0.5501 - val_accuracy: 0.5789\n",
            "Epoch 81/100\n",
            "112/112 [==============================] - 0s 173us/sample - loss: 0.4967 - accuracy: 0.6964 - val_loss: 0.5235 - val_accuracy: 0.6053\n",
            "Epoch 82/100\n",
            "112/112 [==============================] - 0s 156us/sample - loss: 0.4891 - accuracy: 0.6964 - val_loss: 0.5134 - val_accuracy: 0.6579\n",
            "Epoch 83/100\n",
            "112/112 [==============================] - 0s 159us/sample - loss: 0.4889 - accuracy: 0.7321 - val_loss: 0.5228 - val_accuracy: 0.6053\n",
            "Epoch 84/100\n",
            "112/112 [==============================] - 0s 110us/sample - loss: 0.4926 - accuracy: 0.6786 - val_loss: 0.5191 - val_accuracy: 0.6053\n",
            "Epoch 85/100\n",
            "112/112 [==============================] - 0s 144us/sample - loss: 0.4839 - accuracy: 0.7143 - val_loss: 0.5205 - val_accuracy: 0.6053\n",
            "Epoch 86/100\n",
            "112/112 [==============================] - 0s 149us/sample - loss: 0.4799 - accuracy: 0.6964 - val_loss: 0.5213 - val_accuracy: 0.5789\n",
            "Epoch 87/100\n",
            "112/112 [==============================] - 0s 134us/sample - loss: 0.4785 - accuracy: 0.6964 - val_loss: 0.5081 - val_accuracy: 0.6579\n",
            "Epoch 88/100\n",
            "112/112 [==============================] - 0s 140us/sample - loss: 0.4864 - accuracy: 0.7143 - val_loss: 0.5257 - val_accuracy: 0.5789\n",
            "Epoch 89/100\n",
            "112/112 [==============================] - 0s 172us/sample - loss: 0.4798 - accuracy: 0.6964 - val_loss: 0.5452 - val_accuracy: 0.5789\n",
            "Epoch 90/100\n",
            "112/112 [==============================] - 0s 134us/sample - loss: 0.4743 - accuracy: 0.6964 - val_loss: 0.5204 - val_accuracy: 0.5789\n",
            "Epoch 91/100\n",
            "112/112 [==============================] - 0s 134us/sample - loss: 0.4731 - accuracy: 0.6964 - val_loss: 0.5105 - val_accuracy: 0.6053\n",
            "Epoch 92/100\n",
            "112/112 [==============================] - 0s 146us/sample - loss: 0.4690 - accuracy: 0.7321 - val_loss: 0.5361 - val_accuracy: 0.5789\n",
            "Epoch 93/100\n",
            "112/112 [==============================] - 0s 155us/sample - loss: 0.4720 - accuracy: 0.7143 - val_loss: 0.5463 - val_accuracy: 0.5789\n",
            "Epoch 94/100\n",
            "112/112 [==============================] - 0s 140us/sample - loss: 0.4682 - accuracy: 0.6964 - val_loss: 0.5242 - val_accuracy: 0.5789\n",
            "Epoch 95/100\n",
            "112/112 [==============================] - 0s 182us/sample - loss: 0.4648 - accuracy: 0.6964 - val_loss: 0.4963 - val_accuracy: 0.6579\n",
            "Epoch 96/100\n",
            "112/112 [==============================] - 0s 193us/sample - loss: 0.4622 - accuracy: 0.7589 - val_loss: 0.5093 - val_accuracy: 0.5789\n",
            "Epoch 97/100\n",
            "112/112 [==============================] - 0s 136us/sample - loss: 0.4582 - accuracy: 0.7054 - val_loss: 0.4985 - val_accuracy: 0.6316\n",
            "Epoch 98/100\n",
            "112/112 [==============================] - 0s 120us/sample - loss: 0.4672 - accuracy: 0.7232 - val_loss: 0.4935 - val_accuracy: 0.6579\n",
            "Epoch 99/100\n",
            "112/112 [==============================] - 0s 156us/sample - loss: 0.4604 - accuracy: 0.7232 - val_loss: 0.4694 - val_accuracy: 0.8158\n",
            "Epoch 100/100\n",
            "112/112 [==============================] - 0s 140us/sample - loss: 0.4626 - accuracy: 0.8214 - val_loss: 0.4958 - val_accuracy: 0.6053\n"
          ],
          "name": "stdout"
        },
        {
          "output_type": "execute_result",
          "data": {
            "text/plain": [
              "<tensorflow.python.keras.callbacks.History at 0x7fc8cb9e9ef0>"
            ]
          },
          "metadata": {
            "tags": []
          },
          "execution_count": 204
        }
      ]
    },
    {
      "cell_type": "markdown",
      "metadata": {
        "id": "re9ItAR3yS3J",
        "colab_type": "text"
      },
      "source": [
        "## Question 10"
      ]
    },
    {
      "cell_type": "markdown",
      "metadata": {
        "id": "liw0IFf9yVqH",
        "colab_type": "text"
      },
      "source": [
        "### Make predictions\n",
        "- Predict labels on one row"
      ]
    },
    {
      "cell_type": "code",
      "metadata": {
        "id": "H5sBybi6mlLl",
        "colab_type": "code",
        "colab": {
          "base_uri": "https://localhost:8080/",
          "height": 68
        },
        "outputId": "4b8fffb2-fc52-445b-c35c-3c1a91e752b4"
      },
      "source": [
        "y_pred = model.predict_classes(X_test)\n",
        "print(y_pred)\n"
      ],
      "execution_count": 210,
      "outputs": [
        {
          "output_type": "stream",
          "text": [
            "WARNING:tensorflow:Falling back from v2 loop because of error: Failed to find data adapter that can handle input: <class 'pandas.core.frame.DataFrame'>, <class 'NoneType'>\n",
            "[2 2 0 2 0 2 0 2 2 2 2 2 2 2 2 0 2 2 0 0 2 2 0 0 2 0 0 2 2 0 2 1 0 2 2 2 0\n",
            " 2]\n"
          ],
          "name": "stdout"
        }
      ]
    },
    {
      "cell_type": "markdown",
      "metadata": {
        "id": "hSUgMq3m0bG7",
        "colab_type": "text"
      },
      "source": [
        "### Compare the prediction with actual label\n",
        "- Print the same row as done in the previous step but of actual labels"
      ]
    },
    {
      "cell_type": "code",
      "metadata": {
        "id": "K5WbwVPyz-qQ",
        "colab_type": "code",
        "colab": {
          "base_uri": "https://localhost:8080/",
          "height": 102
        },
        "outputId": "2b9829d5-ba7c-445c-ccb5-c1b4eb11ae1a"
      },
      "source": [
        "print(y_test[0:5])"
      ],
      "execution_count": 209,
      "outputs": [
        {
          "output_type": "stream",
          "text": [
            "[[0. 0. 1.]\n",
            " [0. 1. 0.]\n",
            " [1. 0. 0.]\n",
            " [0. 0. 1.]\n",
            " [1. 0. 0.]]\n"
          ],
          "name": "stdout"
        }
      ]
    },
    {
      "cell_type": "markdown",
      "metadata": {
        "id": "FrTKwbgE7NFT",
        "colab_type": "text"
      },
      "source": [
        "\n",
        "\n",
        "---\n",
        "\n"
      ]
    },
    {
      "cell_type": "code",
      "metadata": {
        "id": "25H4soNJ-NxZ",
        "colab_type": "code",
        "colab": {
          "base_uri": "https://localhost:8080/",
          "height": 122
        },
        "outputId": "56e8c60e-1578-4a30-fa4c-9f1f11b05d2e"
      },
      "source": [
        "from google.colab import drive\n",
        "drive.mount('/content/drive')"
      ],
      "execution_count": 80,
      "outputs": [
        {
          "output_type": "stream",
          "text": [
            "Go to this URL in a browser: https://accounts.google.com/o/oauth2/auth?client_id=947318989803-6bn6qk8qdgf4n4g3pfee6491hc0brc4i.apps.googleusercontent.com&redirect_uri=urn%3aietf%3awg%3aoauth%3a2.0%3aoob&response_type=code&scope=email%20https%3a%2f%2fwww.googleapis.com%2fauth%2fdocs.test%20https%3a%2f%2fwww.googleapis.com%2fauth%2fdrive%20https%3a%2f%2fwww.googleapis.com%2fauth%2fdrive.photos.readonly%20https%3a%2f%2fwww.googleapis.com%2fauth%2fpeopleapi.readonly\n",
            "\n",
            "Enter your authorization code:\n",
            "··········\n",
            "Mounted at /content/drive\n"
          ],
          "name": "stdout"
        }
      ]
    },
    {
      "cell_type": "markdown",
      "metadata": {
        "id": "a1UBYPNp5Tn1",
        "colab_type": "text"
      },
      "source": [
        "# Stock prices dataset\n",
        "The data is of tock exchange's stock listings for each trading day of 2010 to 2016.\n",
        "\n",
        "## Description\n",
        "A brief description of columns.\n",
        "- open: The opening market price of the equity symbol on the date\n",
        "- high: The highest market price of the equity symbol on the date\n",
        "- low: The lowest recorded market price of the equity symbol on the date\n",
        "- close: The closing recorded price of the equity symbol on the date\n",
        "- symbol: Symbol of the listed company\n",
        "- volume: Total traded volume of the equity symbol on the date\n",
        "- date: Date of record"
      ]
    },
    {
      "cell_type": "markdown",
      "metadata": {
        "colab_type": "text",
        "id": "ctH_ZW5g-M3g"
      },
      "source": [
        "### Specifying the TensorFlow version\n",
        "Running `import tensorflow` will import the default version (currently 1.x). You can use 2.x by running a cell with the `tensorflow_version` magic **before** you run `import tensorflow`."
      ]
    },
    {
      "cell_type": "code",
      "metadata": {
        "colab_type": "code",
        "id": "vQbdODpH-M3r",
        "colab": {}
      },
      "source": [
        "%tensorflow_version 2.x"
      ],
      "execution_count": 0,
      "outputs": []
    },
    {
      "cell_type": "markdown",
      "metadata": {
        "colab_type": "text",
        "id": "nFQWH1tj-M38"
      },
      "source": [
        "### Import TensorFlow\n",
        "Once you have specified a version via this magic, you can run `import tensorflow` as normal and verify which version was imported as follows:"
      ]
    },
    {
      "cell_type": "code",
      "metadata": {
        "colab_type": "code",
        "id": "Ho5n-xhd-M3_",
        "colab": {
          "base_uri": "https://localhost:8080/",
          "height": 34
        },
        "outputId": "b41674a0-eaa6-4384-d946-afdaf9e215d4"
      },
      "source": [
        "import tensorflow as tf\n",
        "print(tf.__version__)"
      ],
      "execution_count": 82,
      "outputs": [
        {
          "output_type": "stream",
          "text": [
            "2.0.0\n"
          ],
          "name": "stdout"
        }
      ]
    },
    {
      "cell_type": "markdown",
      "metadata": {
        "colab_type": "text",
        "id": "tgkl0qu6-M4F"
      },
      "source": [
        "### Set random seed"
      ]
    },
    {
      "cell_type": "code",
      "metadata": {
        "colab_type": "code",
        "id": "TKgTyuA3-M4G",
        "colab": {}
      },
      "source": [
        "tf.random.set_seed(42)"
      ],
      "execution_count": 0,
      "outputs": []
    },
    {
      "cell_type": "markdown",
      "metadata": {
        "id": "_88voqAH-O6J",
        "colab_type": "text"
      },
      "source": [
        "## Question 1"
      ]
    },
    {
      "cell_type": "markdown",
      "metadata": {
        "id": "dRHCeJqP-evf",
        "colab_type": "text"
      },
      "source": [
        "### Load the data\n",
        "- load the csv file and read it using pandas\n",
        "- file name is prices.csv"
      ]
    },
    {
      "cell_type": "code",
      "metadata": {
        "id": "cKVH5v7r-RmC",
        "colab_type": "code",
        "colab": {
          "base_uri": "https://localhost:8080/",
          "height": 359
        },
        "outputId": "7f51c3db-4e2b-481d-ddef-a2b0b9069469"
      },
      "source": [
        "# run this cell to upload file if you are using google colab\n",
        "#from google.colab import files\n",
        "#files.upload()\n",
        "root_path = '/content/drive/My Drive/Colab Notebooks/'\n",
        "ds = pd.read_csv(root_path+'R6/IN/prices.csv')\n",
        "ds.head(10)"
      ],
      "execution_count": 85,
      "outputs": [
        {
          "output_type": "execute_result",
          "data": {
            "text/html": [
              "<div>\n",
              "<style scoped>\n",
              "    .dataframe tbody tr th:only-of-type {\n",
              "        vertical-align: middle;\n",
              "    }\n",
              "\n",
              "    .dataframe tbody tr th {\n",
              "        vertical-align: top;\n",
              "    }\n",
              "\n",
              "    .dataframe thead th {\n",
              "        text-align: right;\n",
              "    }\n",
              "</style>\n",
              "<table border=\"1\" class=\"dataframe\">\n",
              "  <thead>\n",
              "    <tr style=\"text-align: right;\">\n",
              "      <th></th>\n",
              "      <th>date</th>\n",
              "      <th>symbol</th>\n",
              "      <th>open</th>\n",
              "      <th>close</th>\n",
              "      <th>low</th>\n",
              "      <th>high</th>\n",
              "      <th>volume</th>\n",
              "    </tr>\n",
              "  </thead>\n",
              "  <tbody>\n",
              "    <tr>\n",
              "      <th>0</th>\n",
              "      <td>2016-01-05 00:00:00</td>\n",
              "      <td>WLTW</td>\n",
              "      <td>123.430000</td>\n",
              "      <td>125.839996</td>\n",
              "      <td>122.309998</td>\n",
              "      <td>126.250000</td>\n",
              "      <td>2163600.0</td>\n",
              "    </tr>\n",
              "    <tr>\n",
              "      <th>1</th>\n",
              "      <td>2016-01-06 00:00:00</td>\n",
              "      <td>WLTW</td>\n",
              "      <td>125.239998</td>\n",
              "      <td>119.980003</td>\n",
              "      <td>119.940002</td>\n",
              "      <td>125.540001</td>\n",
              "      <td>2386400.0</td>\n",
              "    </tr>\n",
              "    <tr>\n",
              "      <th>2</th>\n",
              "      <td>2016-01-07 00:00:00</td>\n",
              "      <td>WLTW</td>\n",
              "      <td>116.379997</td>\n",
              "      <td>114.949997</td>\n",
              "      <td>114.930000</td>\n",
              "      <td>119.739998</td>\n",
              "      <td>2489500.0</td>\n",
              "    </tr>\n",
              "    <tr>\n",
              "      <th>3</th>\n",
              "      <td>2016-01-08 00:00:00</td>\n",
              "      <td>WLTW</td>\n",
              "      <td>115.480003</td>\n",
              "      <td>116.620003</td>\n",
              "      <td>113.500000</td>\n",
              "      <td>117.440002</td>\n",
              "      <td>2006300.0</td>\n",
              "    </tr>\n",
              "    <tr>\n",
              "      <th>4</th>\n",
              "      <td>2016-01-11 00:00:00</td>\n",
              "      <td>WLTW</td>\n",
              "      <td>117.010002</td>\n",
              "      <td>114.970001</td>\n",
              "      <td>114.089996</td>\n",
              "      <td>117.330002</td>\n",
              "      <td>1408600.0</td>\n",
              "    </tr>\n",
              "    <tr>\n",
              "      <th>5</th>\n",
              "      <td>2016-01-12 00:00:00</td>\n",
              "      <td>WLTW</td>\n",
              "      <td>115.510002</td>\n",
              "      <td>115.550003</td>\n",
              "      <td>114.500000</td>\n",
              "      <td>116.059998</td>\n",
              "      <td>1098000.0</td>\n",
              "    </tr>\n",
              "    <tr>\n",
              "      <th>6</th>\n",
              "      <td>2016-01-13 00:00:00</td>\n",
              "      <td>WLTW</td>\n",
              "      <td>116.459999</td>\n",
              "      <td>112.849998</td>\n",
              "      <td>112.589996</td>\n",
              "      <td>117.070000</td>\n",
              "      <td>949600.0</td>\n",
              "    </tr>\n",
              "    <tr>\n",
              "      <th>7</th>\n",
              "      <td>2016-01-14 00:00:00</td>\n",
              "      <td>WLTW</td>\n",
              "      <td>113.510002</td>\n",
              "      <td>114.379997</td>\n",
              "      <td>110.050003</td>\n",
              "      <td>115.029999</td>\n",
              "      <td>785300.0</td>\n",
              "    </tr>\n",
              "    <tr>\n",
              "      <th>8</th>\n",
              "      <td>2016-01-15 00:00:00</td>\n",
              "      <td>WLTW</td>\n",
              "      <td>113.330002</td>\n",
              "      <td>112.529999</td>\n",
              "      <td>111.919998</td>\n",
              "      <td>114.879997</td>\n",
              "      <td>1093700.0</td>\n",
              "    </tr>\n",
              "    <tr>\n",
              "      <th>9</th>\n",
              "      <td>2016-01-19 00:00:00</td>\n",
              "      <td>WLTW</td>\n",
              "      <td>113.660004</td>\n",
              "      <td>110.379997</td>\n",
              "      <td>109.870003</td>\n",
              "      <td>115.870003</td>\n",
              "      <td>1523500.0</td>\n",
              "    </tr>\n",
              "  </tbody>\n",
              "</table>\n",
              "</div>"
            ],
            "text/plain": [
              "                  date symbol        open  ...         low        high     volume\n",
              "0  2016-01-05 00:00:00   WLTW  123.430000  ...  122.309998  126.250000  2163600.0\n",
              "1  2016-01-06 00:00:00   WLTW  125.239998  ...  119.940002  125.540001  2386400.0\n",
              "2  2016-01-07 00:00:00   WLTW  116.379997  ...  114.930000  119.739998  2489500.0\n",
              "3  2016-01-08 00:00:00   WLTW  115.480003  ...  113.500000  117.440002  2006300.0\n",
              "4  2016-01-11 00:00:00   WLTW  117.010002  ...  114.089996  117.330002  1408600.0\n",
              "5  2016-01-12 00:00:00   WLTW  115.510002  ...  114.500000  116.059998  1098000.0\n",
              "6  2016-01-13 00:00:00   WLTW  116.459999  ...  112.589996  117.070000   949600.0\n",
              "7  2016-01-14 00:00:00   WLTW  113.510002  ...  110.050003  115.029999   785300.0\n",
              "8  2016-01-15 00:00:00   WLTW  113.330002  ...  111.919998  114.879997  1093700.0\n",
              "9  2016-01-19 00:00:00   WLTW  113.660004  ...  109.870003  115.870003  1523500.0\n",
              "\n",
              "[10 rows x 7 columns]"
            ]
          },
          "metadata": {
            "tags": []
          },
          "execution_count": 85
        }
      ]
    },
    {
      "cell_type": "code",
      "metadata": {
        "id": "-gDC6cSW_FSK",
        "colab_type": "code",
        "colab": {}
      },
      "source": [
        ""
      ],
      "execution_count": 0,
      "outputs": []
    },
    {
      "cell_type": "markdown",
      "metadata": {
        "id": "HlLKVPVH_BCT",
        "colab_type": "text"
      },
      "source": [
        "## Question 2"
      ]
    },
    {
      "cell_type": "markdown",
      "metadata": {
        "id": "9J4BlzVA_gZd",
        "colab_type": "text"
      },
      "source": [
        "### Drop columnns\n",
        "- drop \"date\" and \"symbol\" column from the data"
      ]
    },
    {
      "cell_type": "code",
      "metadata": {
        "id": "IKEK8aEE_Csx",
        "colab_type": "code",
        "colab": {}
      },
      "source": [
        "ds = ds.drop(['date', 'symbol'], axis=1)"
      ],
      "execution_count": 0,
      "outputs": []
    },
    {
      "cell_type": "markdown",
      "metadata": {
        "id": "cTPhO6v-AiZt",
        "colab_type": "text"
      },
      "source": [
        "## Question 3"
      ]
    },
    {
      "cell_type": "markdown",
      "metadata": {
        "id": "SsZXmF3NAkna",
        "colab_type": "text"
      },
      "source": [
        "### Take initial rows\n",
        "- Take first 1000 rows from the data\n",
        "- This step is done to make the execution faster"
      ]
    },
    {
      "cell_type": "code",
      "metadata": {
        "id": "R6-ndc8W_a5C",
        "colab_type": "code",
        "colab": {
          "base_uri": "https://localhost:8080/",
          "height": 419
        },
        "outputId": "e94f16c6-47f4-4744-a338-9d3186ecaa2c"
      },
      "source": [
        "price_data = ds.iloc[0:1000,:]\n",
        "price_data"
      ],
      "execution_count": 89,
      "outputs": [
        {
          "output_type": "execute_result",
          "data": {
            "text/html": [
              "<div>\n",
              "<style scoped>\n",
              "    .dataframe tbody tr th:only-of-type {\n",
              "        vertical-align: middle;\n",
              "    }\n",
              "\n",
              "    .dataframe tbody tr th {\n",
              "        vertical-align: top;\n",
              "    }\n",
              "\n",
              "    .dataframe thead th {\n",
              "        text-align: right;\n",
              "    }\n",
              "</style>\n",
              "<table border=\"1\" class=\"dataframe\">\n",
              "  <thead>\n",
              "    <tr style=\"text-align: right;\">\n",
              "      <th></th>\n",
              "      <th>open</th>\n",
              "      <th>close</th>\n",
              "      <th>low</th>\n",
              "      <th>high</th>\n",
              "      <th>volume</th>\n",
              "    </tr>\n",
              "  </thead>\n",
              "  <tbody>\n",
              "    <tr>\n",
              "      <th>0</th>\n",
              "      <td>123.430000</td>\n",
              "      <td>125.839996</td>\n",
              "      <td>122.309998</td>\n",
              "      <td>126.250000</td>\n",
              "      <td>2163600.0</td>\n",
              "    </tr>\n",
              "    <tr>\n",
              "      <th>1</th>\n",
              "      <td>125.239998</td>\n",
              "      <td>119.980003</td>\n",
              "      <td>119.940002</td>\n",
              "      <td>125.540001</td>\n",
              "      <td>2386400.0</td>\n",
              "    </tr>\n",
              "    <tr>\n",
              "      <th>2</th>\n",
              "      <td>116.379997</td>\n",
              "      <td>114.949997</td>\n",
              "      <td>114.930000</td>\n",
              "      <td>119.739998</td>\n",
              "      <td>2489500.0</td>\n",
              "    </tr>\n",
              "    <tr>\n",
              "      <th>3</th>\n",
              "      <td>115.480003</td>\n",
              "      <td>116.620003</td>\n",
              "      <td>113.500000</td>\n",
              "      <td>117.440002</td>\n",
              "      <td>2006300.0</td>\n",
              "    </tr>\n",
              "    <tr>\n",
              "      <th>4</th>\n",
              "      <td>117.010002</td>\n",
              "      <td>114.970001</td>\n",
              "      <td>114.089996</td>\n",
              "      <td>117.330002</td>\n",
              "      <td>1408600.0</td>\n",
              "    </tr>\n",
              "    <tr>\n",
              "      <th>...</th>\n",
              "      <td>...</td>\n",
              "      <td>...</td>\n",
              "      <td>...</td>\n",
              "      <td>...</td>\n",
              "      <td>...</td>\n",
              "    </tr>\n",
              "    <tr>\n",
              "      <th>995</th>\n",
              "      <td>63.310001</td>\n",
              "      <td>63.590000</td>\n",
              "      <td>63.240002</td>\n",
              "      <td>63.639999</td>\n",
              "      <td>2133200.0</td>\n",
              "    </tr>\n",
              "    <tr>\n",
              "      <th>996</th>\n",
              "      <td>27.160000</td>\n",
              "      <td>26.990000</td>\n",
              "      <td>26.680000</td>\n",
              "      <td>27.299999</td>\n",
              "      <td>1982400.0</td>\n",
              "    </tr>\n",
              "    <tr>\n",
              "      <th>997</th>\n",
              "      <td>28.320000</td>\n",
              "      <td>28.770000</td>\n",
              "      <td>28.010000</td>\n",
              "      <td>28.809999</td>\n",
              "      <td>37152800.0</td>\n",
              "    </tr>\n",
              "    <tr>\n",
              "      <th>998</th>\n",
              "      <td>44.000000</td>\n",
              "      <td>44.799999</td>\n",
              "      <td>43.750000</td>\n",
              "      <td>44.810001</td>\n",
              "      <td>6568600.0</td>\n",
              "    </tr>\n",
              "    <tr>\n",
              "      <th>999</th>\n",
              "      <td>36.080002</td>\n",
              "      <td>37.139999</td>\n",
              "      <td>36.009998</td>\n",
              "      <td>37.230000</td>\n",
              "      <td>5604300.0</td>\n",
              "    </tr>\n",
              "  </tbody>\n",
              "</table>\n",
              "<p>1000 rows × 5 columns</p>\n",
              "</div>"
            ],
            "text/plain": [
              "           open       close         low        high      volume\n",
              "0    123.430000  125.839996  122.309998  126.250000   2163600.0\n",
              "1    125.239998  119.980003  119.940002  125.540001   2386400.0\n",
              "2    116.379997  114.949997  114.930000  119.739998   2489500.0\n",
              "3    115.480003  116.620003  113.500000  117.440002   2006300.0\n",
              "4    117.010002  114.970001  114.089996  117.330002   1408600.0\n",
              "..          ...         ...         ...         ...         ...\n",
              "995   63.310001   63.590000   63.240002   63.639999   2133200.0\n",
              "996   27.160000   26.990000   26.680000   27.299999   1982400.0\n",
              "997   28.320000   28.770000   28.010000   28.809999  37152800.0\n",
              "998   44.000000   44.799999   43.750000   44.810001   6568600.0\n",
              "999   36.080002   37.139999   36.009998   37.230000   5604300.0\n",
              "\n",
              "[1000 rows x 5 columns]"
            ]
          },
          "metadata": {
            "tags": []
          },
          "execution_count": 89
        }
      ]
    },
    {
      "cell_type": "markdown",
      "metadata": {
        "id": "6vGtnapgBIJm",
        "colab_type": "text"
      },
      "source": [
        "## Question 4"
      ]
    },
    {
      "cell_type": "markdown",
      "metadata": {
        "colab_type": "text",
        "id": "C8u_jlbABTip"
      },
      "source": [
        "### Get features and label from the dataset in separate variable\n",
        "- Take \"open\", \"close\", \"low\", \"high\" columns as features\n",
        "- Take \"volume\" column as label\n",
        "- Normalize label column by dividing it with 1000000"
      ]
    },
    {
      "cell_type": "code",
      "metadata": {
        "id": "xQjCMzUXBJbg",
        "colab_type": "code",
        "colab": {
          "base_uri": "https://localhost:8080/",
          "height": 1000
        },
        "outputId": "0bf61b65-1a1a-48d5-cf38-f4ecd097e65b"
      },
      "source": [
        "X = price_data.iloc[:,0:4].values \n",
        "y = price_data.iloc[:,4].values/1000000\n",
        "print(y)"
      ],
      "execution_count": 99,
      "outputs": [
        {
          "output_type": "stream",
          "text": [
            "[2.163600e+00 2.386400e+00 2.489500e+00 2.006300e+00 1.408600e+00\n",
            " 1.098000e+00 9.496000e-01 7.853000e-01 1.093700e+00 1.523500e+00\n",
            " 1.653900e+00 9.443000e-01 7.449000e-01 7.038000e-01 5.631000e-01\n",
            " 8.961000e-01 6.804000e-01 7.499000e-01 5.742000e-01 6.948000e-01\n",
            " 8.963000e-01 9.563000e-01 9.971000e-01 1.200500e+00 1.725200e+00\n",
            " 1.946000e+00 1.319500e+00 9.224000e-01 1.185100e+00 9.215000e-01\n",
            " 4.409000e-01 1.244300e+00 6.813000e-01 4.112000e-01 4.473000e-01\n",
            " 5.592000e-01 4.599000e-01 9.716000e-01 6.941000e-01 1.159600e+00\n",
            " 8.847000e-01 6.920000e-01 8.980000e-01 8.445000e-01 7.965000e-01\n",
            " 4.168000e-01 5.902000e-01 4.951000e-01 5.158000e-01 5.621000e-01\n",
            " 8.093000e-01 1.607300e+00 1.001300e+00 7.114000e-01 4.442000e-01\n",
            " 5.341000e-01 7.982000e-01 5.910000e-01 4.432000e-01 5.780000e-01\n",
            " 7.651000e-01 5.143000e-01 1.150000e+00 2.035300e+00 7.022000e-01\n",
            " 6.891000e-01 5.532000e-01 7.759000e-01 6.217000e-01 3.581000e-01\n",
            " 9.393000e-01 7.355000e-01 9.246000e-01 6.588000e-01 1.055400e+00\n",
            " 6.953000e-01 4.600000e-01 5.329000e-01 4.626000e-01 9.107000e-01\n",
            " 8.896000e-01 7.347000e-01 1.304800e+00 1.597300e+00 1.917500e+00\n",
            " 3.221500e+00 9.198000e-01 1.991600e+00 5.948000e-01 4.758000e-01\n",
            " 7.151000e-01 5.285000e-01 5.800000e-01 6.297000e-01 5.982000e-01\n",
            " 8.167000e-01 6.408000e-01 7.611000e-01 4.621000e-01 6.270000e-01\n",
            " 7.225000e-01 1.384200e+00 4.415000e-01 4.236000e-01 4.967000e-01\n",
            " 5.367000e-01 4.294000e-01 7.191000e-01 3.945000e-01 5.480000e-01\n",
            " 2.633000e-01 3.293000e-01 3.787000e-01 4.048000e-01 6.593000e-01\n",
            " 5.503000e-01 4.856000e-01 5.619000e-01 5.123000e-01 1.638000e+00\n",
            " 8.844000e-01 7.952000e-01 1.049700e+00 1.162100e+00 8.584000e-01\n",
            " 7.614000e-01 7.499000e-01 5.911000e-01 6.928000e-01 4.826000e-01\n",
            " 8.440000e-01 6.300000e-01 5.671000e-01 5.122000e-01 4.622000e-01\n",
            " 7.061000e-01 5.339000e-01 3.747000e-01 3.738000e-01 3.657000e-01\n",
            " 3.139000e-01 4.010000e-01 2.755000e-01 4.267000e-01 5.746000e-01\n",
            " 7.932000e-01 4.469000e-01 7.667000e-01 1.865200e+00 9.308000e-01\n",
            " 5.027000e-01 7.097000e-01 5.639000e-01 3.429000e-01 4.788000e-01\n",
            " 5.018000e-01 4.103000e-01 4.438000e-01 1.414800e+00 5.707000e-01\n",
            " 3.913000e-01 4.252000e-01 5.263000e-01 5.147000e-01 4.565000e-01\n",
            " 4.141000e-01 4.645000e-01 5.262000e-01 4.873000e-01 7.523000e-01\n",
            " 6.325000e-01 7.283000e-01 6.411000e-01 6.555000e-01 4.889000e-01\n",
            " 7.419000e-01 7.134000e-01 1.847200e+00 3.107000e-01 3.110000e-01\n",
            " 9.277000e-01 7.165000e-01 7.970000e-01 4.103000e-01 5.036000e-01\n",
            " 5.672000e-01 1.504500e+00 1.461900e+00 1.142100e+00 1.068500e+00\n",
            " 7.002000e-01 7.672000e-01 8.551000e-01 4.238000e-01 5.757000e-01\n",
            " 6.819000e-01 5.403000e-01 5.480000e-01 5.645000e-01 5.056000e-01\n",
            " 4.356000e-01 5.548000e-01 4.966000e-01 3.120000e-01 4.147000e-01\n",
            " 4.783000e-01 4.170000e-01 4.457000e-01 4.592000e-01 4.758000e-01\n",
            " 6.932000e-01 7.367000e-01 3.531200e+00 1.345600e+00 9.676000e-01\n",
            " 1.291600e+00 1.524500e+00 7.543000e-01 1.089100e+00 6.397000e-01\n",
            " 8.184000e-01 5.245000e-01 8.190000e-01 4.759000e-01 1.011700e+00\n",
            " 3.802000e-01 2.840000e-01 4.399000e-01 3.529000e-01 6.767000e-01\n",
            " 8.987000e-01 8.558000e-01 6.047000e-01 1.301200e+00 9.283000e-01\n",
            " 9.885000e-01 9.434000e-01 8.225000e-01 1.168200e+00 8.464000e-01\n",
            " 8.266000e-01 1.232700e+00 9.376000e-01 6.515000e-01 6.146000e-01\n",
            " 5.572000e-01 3.619000e-01 3.829000e-01 4.299000e-01 2.166000e-01\n",
            " 4.664000e-01 3.815500e+00 9.837300e+00 1.701700e+00 1.234324e+02\n",
            " 2.455900e+00 1.082900e+01 3.650100e+00 4.710200e+00 2.102700e+00\n",
            " 3.472500e+00 3.930100e+00 7.943000e-01 2.228600e+00 1.299300e+00\n",
            " 4.076600e+00 4.597600e+00 5.671300e+00 2.362000e+00 8.564000e-01\n",
            " 7.750900e+00 1.228200e+00 3.793000e-01 3.015600e+00 7.129000e-01\n",
            " 1.802400e+00 2.631000e+00 1.128200e+00 1.861510e+01 8.767000e-01\n",
            " 3.061000e-01 5.277400e+00 2.238700e+00 2.750500e+00 7.599900e+00\n",
            " 1.650400e+00 4.641800e+00 3.407100e+00 2.364900e+00 3.324500e+00\n",
            " 1.131400e+00 2.457200e+00 1.151210e+01 9.306600e+00 1.483400e+00\n",
            " 5.387000e-01 1.301200e+00 2.176100e+00 6.894300e+00 8.292000e-01\n",
            " 4.083000e-01 6.186700e+00 1.808452e+02 1.146750e+01 2.971500e+00\n",
            " 4.550800e+00 6.433800e+00 1.371800e+00 1.793200e+00 3.746700e+00\n",
            " 5.888000e+00 2.469700e+00 6.127700e+00 2.387000e-01 1.234200e+00\n",
            " 1.437610e+01 1.433230e+01 1.286000e+00 1.511500e+00 4.067930e+01\n",
            " 3.385100e+00 4.009700e+00 3.824400e+00 7.325600e+00 2.670300e+00\n",
            " 4.553000e+00 6.710900e+00 1.964100e+00 5.372700e+00 4.832000e+00\n",
            " 3.055200e+00 6.172000e+00 2.232400e+00 3.114680e+01 8.229000e-01\n",
            " 3.227300e+00 1.261400e+00 4.874200e+00 1.014300e+00 1.438400e+00\n",
            " 1.357340e+01 2.660500e+00 3.139000e-01 1.148600e+00 5.875500e+00\n",
            " 6.600000e-01 2.239700e+00 4.447400e+00 4.514800e+00 3.350600e+00\n",
            " 8.281000e-01 4.812000e-01 1.388080e+01 3.280200e+00 1.574200e+00\n",
            " 7.906000e+00 5.985370e+01 8.391000e+00 1.051100e+00 2.068100e+00\n",
            " 5.765200e+00 1.680700e+00 1.467680e+01 1.017380e+01 3.025000e-01\n",
            " 2.175500e+00 1.448250e+01 6.017600e+00 3.974600e+00 7.552600e+00\n",
            " 4.372000e-01 1.046000e+00 5.799100e+00 5.202600e+00 1.370040e+01\n",
            " 2.844100e+00 5.354000e-01 1.306900e+00 3.059400e+00 4.995000e-01\n",
            " 1.502200e+00 1.693300e+01 1.199700e+00 2.228100e+00 1.421600e+00\n",
            " 4.152100e+00 1.910400e+00 4.225500e+00 3.850500e+00 2.251160e+01\n",
            " 1.009500e+00 2.142300e+00 7.507000e-01 1.931500e+00 3.508400e+00\n",
            " 1.446400e+00 3.781000e+00 2.401200e+00 4.110000e+00 5.763000e-01\n",
            " 3.299500e+00 7.742000e-01 1.206800e+00 3.687800e+00 4.480000e-01\n",
            " 5.231900e+00 2.347600e+00 1.049400e+00 1.030800e+00 4.367600e+00\n",
            " 1.062400e+00 2.186500e+00 7.744000e-01 6.085580e+01 3.432000e+00\n",
            " 1.808240e+01 3.215100e+00 1.840900e+00 6.749000e-01 4.623700e+00\n",
            " 2.536000e+00 1.542910e+01 1.873800e+00 2.269800e+00 3.553300e+00\n",
            " 2.161800e+00 1.789400e+00 2.849400e+00 1.651270e+01 6.624000e-01\n",
            " 1.636000e+00 1.908400e+00 4.030400e+00 1.198500e+00 6.707990e+01\n",
            " 2.997000e+00 1.680900e+01 5.156400e+00 1.653910e+01 3.927000e+00\n",
            " 3.908400e+00 8.369000e-01 2.533400e+00 9.185600e+00 2.098800e+00\n",
            " 9.135000e+00 3.905600e+00 5.352000e-01 1.157160e+01 6.076000e-01\n",
            " 1.652600e+00 1.046280e+01 3.658400e+00 1.426600e+00 4.278700e+00\n",
            " 1.312090e+01 3.729300e+00 6.944100e+00 2.904000e+00 4.011600e+00\n",
            " 7.389200e+00 9.200000e-01 2.795740e+01 3.018000e+00 2.705200e+00\n",
            " 6.546000e-01 7.948000e-01 6.997800e+00 1.048000e+00 2.008500e+00\n",
            " 6.155300e+00 3.637000e+00 3.252000e-01 2.860000e-01 1.793700e+00\n",
            " 4.780090e+01 2.353000e+00 4.034900e+00 4.444300e+00 2.965200e+00\n",
            " 9.955000e-01 3.371000e-01 2.728100e+00 4.254200e+00 1.876000e+00\n",
            " 8.727000e+00 1.728500e+00 9.506200e+00 3.332500e+00 3.546050e+01\n",
            " 2.816600e+00 2.749000e+00 1.490160e+01 6.263800e+00 2.827000e+00\n",
            " 1.634900e+00 2.122800e+00 1.387040e+01 1.271880e+01 3.239900e+00\n",
            " 6.135000e-01 2.210900e+00 3.959400e+00 1.241400e+00 4.493800e+00\n",
            " 8.834000e-01 1.656200e+00 8.989000e-01 2.887600e+00 6.067100e+00\n",
            " 2.408300e+00 3.811400e+00 1.332800e+00 9.616700e+00 1.856900e+00\n",
            " 9.378000e-01 9.625000e+00 1.141850e+01 8.823100e+00 9.321000e+00\n",
            " 3.858000e-01 2.642400e+00 2.860300e+00 3.380500e+00 2.975900e+00\n",
            " 5.839300e+00 1.518700e+00 2.035200e+00 1.859700e+00 7.953300e+00\n",
            " 6.109400e+00 4.767000e+00 4.970000e-01 6.010500e+00 4.900000e-01\n",
            " 4.562000e-01 3.680300e+00 3.043700e+00 3.880200e+00 1.104860e+01\n",
            " 3.424300e+00 4.072100e+00 1.389650e+01 9.214200e+00 3.840910e+01\n",
            " 7.511700e+00 7.210000e-01 9.510000e-02 3.441270e+01 1.642300e+00\n",
            " 3.611900e+00 2.227600e+00 2.171500e+00 2.602200e+00 5.625400e+00\n",
            " 1.723960e+01 1.164900e+00 6.905600e+00 1.197240e+01 1.616100e+00\n",
            " 5.385900e+00 1.683700e+00 1.884500e+00 5.320100e+00 1.967200e+00\n",
            " 4.923600e+00 2.000510e+01 2.925800e+00 8.769000e-01 1.759600e+00\n",
            " 1.670800e+00 2.679500e+01 1.278200e+00 3.624100e+00 3.731300e+00\n",
            " 2.932200e+00 2.040000e+00 2.631700e+00 2.041800e+00 8.632000e-01\n",
            " 1.519900e+00 5.130400e+00 6.585900e+00 5.208600e+01 3.470900e+00\n",
            " 9.190800e+00 4.619400e+00 9.610000e-01 6.121300e+00 1.880200e+00\n",
            " 1.169700e+00 7.844500e+00 4.890300e+00 7.125000e-01 8.735000e-01\n",
            " 2.413400e+00 1.126800e+00 5.465000e-01 3.001500e+00 1.579100e+00\n",
            " 5.405000e-01 2.460200e+00 1.233000e+00 1.524100e+00 1.457020e+01\n",
            " 6.407000e-01 3.252000e+00 2.792600e+00 5.103000e-01 1.175480e+01\n",
            " 1.018900e+00 2.060800e+00 3.964700e+00 8.997000e-01 9.040000e-01\n",
            " 9.279000e-01 1.574360e+01 2.244000e+00 1.425500e+00 1.897000e+00\n",
            " 1.637000e+01 8.668000e-01 1.402360e+01 3.100900e+00 9.204000e-01\n",
            " 1.338000e+00 2.947000e-01 7.737000e-01 5.771300e+00 2.415600e+00\n",
            " 2.680000e-01 1.323500e+00 5.119300e+00 3.450400e+00 1.572200e+00\n",
            " 4.008800e+00 4.659000e-01 2.081200e+00 6.668600e+00 3.440300e+00\n",
            " 1.111690e+01 1.418700e+00 2.033000e+00 4.911500e+00 3.473200e+00\n",
            " 3.982800e+00 8.322300e+00 2.459700e+00 2.913660e+01 1.302400e+00\n",
            " 2.928700e+00 1.793700e+00 8.490500e+00 4.589100e+00 1.935200e+00\n",
            " 1.257500e+01 1.734900e+00 7.182800e+00 2.330200e+00 3.716000e+00\n",
            " 1.316400e+00 3.355000e+00 8.833800e+00 1.795200e+00 7.026100e+00\n",
            " 1.036930e+01 3.630600e+00 4.284000e+00 8.785900e+00 1.835200e+00\n",
            " 1.553600e+00 5.947000e-01 1.219950e+01 3.110300e+00 5.894200e+00\n",
            " 3.897200e+00 3.433800e+00 1.692500e+00 1.289170e+01 6.104100e+00\n",
            " 2.018000e+01 7.806000e-01 2.042000e+00 3.132800e+00 1.545450e+01\n",
            " 1.128000e+00 1.863800e+00 3.900000e-01 2.652000e+00 1.744900e+00\n",
            " 1.196900e+00 1.617660e+01 9.544000e-01 8.171000e+00 3.118200e+00\n",
            " 1.541800e+00 3.933570e+01 5.275000e+00 1.010100e+00 2.058800e+00\n",
            " 7.020200e+00 2.075310e+01 4.277900e+00 1.832400e+00 2.071000e+00\n",
            " 4.741400e+00 6.275000e-01 2.670400e+00 2.555900e+00 2.824700e+00\n",
            " 2.780910e+01 1.051400e+00 1.347270e+01 1.658740e+01 2.962300e+00\n",
            " 7.824000e-01 3.974600e+00 1.938700e+00 4.186000e+00 2.521200e+01\n",
            " 1.932400e+00 1.504762e+02 2.476800e+00 1.056210e+01 2.613000e+00\n",
            " 7.108800e+00 2.040100e+00 3.458700e+00 3.252400e+00 3.693000e-01\n",
            " 3.008800e+00 1.422200e+00 5.112400e+00 5.093200e+00 4.573600e+00\n",
            " 3.965300e+00 5.834000e-01 8.920500e+00 1.377600e+00 5.457000e-01\n",
            " 5.421900e+00 3.989000e-01 3.052800e+00 5.342100e+00 9.276000e-01\n",
            " 1.517320e+01 7.141000e-01 3.246000e-01 7.882800e+00 2.782200e+00\n",
            " 2.575800e+00 8.851900e+00 2.532200e+00 8.385500e+00 4.986100e+00\n",
            " 2.464500e+00 4.087500e+00 7.901000e-01 2.705400e+00 2.220100e+01\n",
            " 1.136610e+01 1.341000e+00 3.011000e-01 2.708800e+00 1.843600e+00\n",
            " 1.064120e+01 7.000000e-01 1.224700e+00 8.867800e+00 2.095213e+02\n",
            " 5.993700e+00 4.406600e+00 7.023400e+00 6.979200e+00 1.093600e+00\n",
            " 1.122200e+00 3.276600e+00 1.066340e+01 4.899400e+00 7.189300e+00\n",
            " 1.988000e-01 1.526800e+00 1.697360e+01 8.594200e+00 2.654000e+00\n",
            " 2.173700e+00 6.686170e+01 3.437400e+00 5.517100e+00 3.023700e+00\n",
            " 5.697200e+00 9.280400e+00 4.510400e+00 5.441000e+00 2.116000e+00\n",
            " 3.199900e+00 6.705800e+00 7.324400e+00 6.662500e+00 1.936000e+00\n",
            " 2.869260e+01 2.352700e+00 1.000000e-02 4.564300e+00 1.412800e+00\n",
            " 5.296800e+00 3.386900e+00 1.336700e+00 1.774650e+01 2.835000e+00\n",
            " 5.110000e-01 1.592300e+00 4.288600e+00 8.488000e-01 4.227100e+00\n",
            " 8.029400e+00 6.313200e+00 3.223400e+00 5.152000e-01 3.109000e-01\n",
            " 1.008450e+01 2.775800e+00 2.497100e+00 7.942400e+00 4.512450e+01\n",
            " 1.197120e+01 1.455600e+00 3.450100e+00 8.993400e+00 2.149700e+00\n",
            " 7.512000e+00 1.059370e+01 1.200700e+00 2.802200e+00 2.506600e+01\n",
            " 9.206100e+00 3.007400e+00 7.766400e+00 2.836000e-01 1.535200e+00\n",
            " 1.025450e+01 4.502200e+00 1.030770e+01 3.193000e+00 8.574000e-01\n",
            " 8.415000e-01 3.456600e+00 4.135000e-01 1.027600e+00 1.878380e+01\n",
            " 9.571000e-01 2.735200e+00 2.127200e+00 3.872300e+00 1.541000e+00\n",
            " 3.711400e+00 6.632500e+00 2.668310e+01 1.098400e+00 2.856000e+00\n",
            " 9.488000e-01 2.485100e+00 3.246000e+00 2.269800e+00 2.707500e+00\n",
            " 2.344800e+00 4.450000e+00 6.819000e-01 4.545400e+00 7.623000e-01\n",
            " 2.014200e+00 4.364200e+00 5.423000e-01 5.734800e+00 2.946600e+00\n",
            " 1.157100e+00 9.292000e-01 5.222400e+00 1.393500e+00 2.431800e+00\n",
            " 6.426000e-01 2.156202e+02 2.898800e+00 1.731300e+01 2.493300e+00\n",
            " 2.922100e+00 2.143400e+00 4.868800e+00 2.674000e+00 1.270070e+01\n",
            " 2.914300e+00 1.414100e+00 2.981200e+00 2.363100e+00 1.064000e+00\n",
            " 2.672000e+00 2.219590e+01 7.788000e-01 2.520900e+00 2.206600e+00\n",
            " 3.272900e+00 1.535400e+00 6.455060e+01 2.315000e+00 2.078820e+01\n",
            " 7.439200e+00 1.806090e+01 6.031900e+00 6.003300e+00 9.428000e-01\n",
            " 1.288600e+00 1.829710e+01 1.719300e+00 1.165940e+01 6.883000e+00\n",
            " 5.945000e-01 1.898970e+01 8.226000e-01 1.646900e+00 2.122660e+01\n",
            " 2.300400e+00 1.173300e+00 4.180600e+00 1.559430e+01 3.195800e+00\n",
            " 1.242400e+01 2.805400e+00 2.211800e+00 6.479200e+00 3.039400e+00\n",
            " 2.883050e+01 8.338900e+00 1.854400e+00 8.921000e-01 5.095000e-01\n",
            " 6.070600e+00 3.828900e+00 1.860700e+00 6.841400e+00 7.804000e+00\n",
            " 2.236000e-01 3.489000e-01 3.039700e+00 5.235770e+01 3.142100e+00\n",
            " 5.249500e+00 6.134700e+00 2.522700e+00 1.120200e+00 4.101000e-01\n",
            " 2.247700e+00 2.711400e+00 2.186900e+00 4.925700e+00 1.510300e+00\n",
            " 1.067310e+01 9.555900e+00 4.120830e+01 5.012300e+00 1.472000e+00\n",
            " 1.666080e+01 5.996200e+00 2.136200e+00 2.465900e+00 1.689300e+00\n",
            " 2.317240e+01 1.990400e+01 2.539600e+00 1.129300e+00 1.975600e+00\n",
            " 9.097500e+00 2.242100e+00 6.205100e+00 8.646000e-01 7.092000e-01\n",
            " 1.129600e+00 3.449300e+00 7.517100e+00 2.356500e+00 4.839200e+00\n",
            " 3.684600e+00 1.442840e+01 1.463300e+00 7.496000e-01 1.335510e+01\n",
            " 1.153830e+01 9.931300e+00 1.290600e+01 3.699000e-01 2.701000e+00\n",
            " 2.627800e+00 3.258700e+00 5.206100e+00 7.099000e+00 7.795500e+00\n",
            " 2.133200e+00 1.982400e+00 3.715280e+01 6.568600e+00 5.604300e+00]\n"
          ],
          "name": "stdout"
        }
      ]
    },
    {
      "cell_type": "markdown",
      "metadata": {
        "id": "aTAKzlxZBz0z",
        "colab_type": "text"
      },
      "source": [
        "## Question 5"
      ]
    },
    {
      "cell_type": "markdown",
      "metadata": {
        "id": "IfY8Km1Zzyt2",
        "colab_type": "text"
      },
      "source": [
        "### Convert data\n",
        "- Convert features and labels to numpy array\n",
        "- Convert their data type to \"float32\""
      ]
    },
    {
      "cell_type": "code",
      "metadata": {
        "id": "Ko7nnQVbYENh",
        "colab_type": "code",
        "colab": {}
      },
      "source": [
        "import numpy as np"
      ],
      "execution_count": 0,
      "outputs": []
    },
    {
      "cell_type": "code",
      "metadata": {
        "id": "5U6zcWmFC-9S",
        "colab_type": "code",
        "colab": {}
      },
      "source": [
        "X = np.asarray(X,dtype=np.float32)\n",
        "y = np.asarray(y,dtype=np.float32)"
      ],
      "execution_count": 0,
      "outputs": []
    },
    {
      "cell_type": "markdown",
      "metadata": {
        "colab_type": "text",
        "id": "3TWpN0nVTpUx"
      },
      "source": [
        "## Question 6"
      ]
    },
    {
      "cell_type": "markdown",
      "metadata": {
        "id": "WQ1FKEs-4btX",
        "colab_type": "text"
      },
      "source": [
        "### Normalize data\n",
        "- Normalize features\n",
        "- Use tf.math.l2_normalize to normalize features\n",
        "- You can read more about it here https://www.tensorflow.org/api_docs/python/tf/math/l2_normalize"
      ]
    },
    {
      "cell_type": "code",
      "metadata": {
        "id": "V0Tfe00X78wB",
        "colab_type": "code",
        "colab": {
          "base_uri": "https://localhost:8080/",
          "height": 34
        },
        "outputId": "5d113550-30c8-43a6-cc4e-89057fa498fd"
      },
      "source": [
        "X = tf.math.l2_normalize(X)\n",
        "X.shape"
      ],
      "execution_count": 105,
      "outputs": [
        {
          "output_type": "execute_result",
          "data": {
            "text/plain": [
              "TensorShape([1000, 4])"
            ]
          },
          "metadata": {
            "tags": []
          },
          "execution_count": 105
        }
      ]
    },
    {
      "cell_type": "markdown",
      "metadata": {
        "colab_type": "text",
        "id": "wmXUGc2oTspa"
      },
      "source": [
        "## Question 7"
      ]
    },
    {
      "cell_type": "markdown",
      "metadata": {
        "id": "VJelDMpzxs0L",
        "colab_type": "text"
      },
      "source": [
        "### Define weight and bias\n",
        "- Initialize weight and bias with tf.zeros\n",
        "- tf.zeros is an initializer that generates tensors initialized to 0\n",
        "- Specify the value for shape"
      ]
    },
    {
      "cell_type": "code",
      "metadata": {
        "id": "8o9RPWVTxs0O",
        "colab_type": "code",
        "colab": {}
      },
      "source": [
        "w = tf.zeros(shape=(4,1))\n",
        "b = tf.zeros(shape=(1))"
      ],
      "execution_count": 0,
      "outputs": []
    },
    {
      "cell_type": "markdown",
      "metadata": {
        "colab_type": "text",
        "id": "8a0wr94aTyjg"
      },
      "source": [
        "## Question 8"
      ]
    },
    {
      "cell_type": "markdown",
      "metadata": {
        "id": "zMXXYdOSxs0Q",
        "colab_type": "text"
      },
      "source": [
        "### Get prediction\n",
        "- Define a function to get prediction\n",
        "- Approach: prediction = (X * W) + b; here is X is features"
      ]
    },
    {
      "cell_type": "code",
      "metadata": {
        "id": "U8Cty1y0xs0S",
        "colab_type": "code",
        "colab": {}
      },
      "source": [
        "def prediction(x, w, b):\n",
        "    \n",
        "    xw_matmul = tf.matmul(x, w)\n",
        "    y = tf.add(xw_matmul, b)\n",
        "    \n",
        "    return y"
      ],
      "execution_count": 0,
      "outputs": []
    },
    {
      "cell_type": "markdown",
      "metadata": {
        "id": "lQmS3Tauxs0V",
        "colab_type": "text"
      },
      "source": [
        "### Calculate loss\n",
        "- Calculate loss using predictions\n",
        "- Define a function to calculate loss\n",
        "- We are calculating mean squared error"
      ]
    },
    {
      "cell_type": "code",
      "metadata": {
        "id": "-FRXmDd5xs0X",
        "colab_type": "code",
        "colab": {}
      },
      "source": [
        "def loss(y_actual, y_predicted):\n",
        "    \n",
        "    diff = y_actual - y_predicted\n",
        "    sqr = tf.square(diff)\n",
        "    avg = tf.reduce_mean(sqr)\n",
        "    \n",
        "    return avg"
      ],
      "execution_count": 0,
      "outputs": []
    },
    {
      "cell_type": "markdown",
      "metadata": {
        "colab_type": "text",
        "id": "ZbBpnOtfT0wd"
      },
      "source": [
        "## Question 9"
      ]
    },
    {
      "cell_type": "markdown",
      "metadata": {
        "id": "bkOzAUUsTmF_",
        "colab_type": "text"
      },
      "source": [
        "### Define a function to train the model\n",
        "1.   Record all the mathematical steps to calculate Loss\n",
        "2.   Calculate Gradients of Loss w.r.t weights and bias\n",
        "3.   Update Weights and Bias based on gradients and learning rate to minimize loss"
      ]
    },
    {
      "cell_type": "code",
      "metadata": {
        "id": "2R4uieGYLYtM",
        "colab_type": "code",
        "colab": {}
      },
      "source": [
        "def train(x, y_actual, w, b, learning_rate=0.01):\n",
        "    \n",
        "    #Record mathematical operations on 'tape' to calculate loss\n",
        "    with tf.GradientTape() as t:\n",
        "        \n",
        "        t.watch([w,b])\n",
        "        \n",
        "        current_prediction = prediction(x, w, b)\n",
        "        current_loss = loss(y_actual, current_prediction)\n",
        "    \n",
        "    #Calculate Gradients for Loss with respect to Weights and Bias\n",
        "    dw, db = t.gradient(current_loss,[w, b])\n",
        "    \n",
        "    #Update Weights and Bias\n",
        "    w = w - learning_rate*dw\n",
        "    b = b - learning_rate*db\n",
        "    \n",
        "    return w, b"
      ],
      "execution_count": 0,
      "outputs": []
    },
    {
      "cell_type": "markdown",
      "metadata": {
        "colab_type": "text",
        "id": "AW4SEP8kT2ls"
      },
      "source": [
        "## Question 10"
      ]
    },
    {
      "cell_type": "markdown",
      "metadata": {
        "id": "yeN0deOvT81N",
        "colab_type": "text"
      },
      "source": [
        "### Train the model for 100 epochs \n",
        "- Observe the training loss at every iteration"
      ]
    },
    {
      "cell_type": "code",
      "metadata": {
        "id": "Jjkn4gUgLevE",
        "colab_type": "code",
        "colab": {
          "base_uri": "https://localhost:8080/",
          "height": 1000
        },
        "outputId": "13ba3a28-e732-4ca0-cd07-816a7c512d02"
      },
      "source": [
        "#Train for 100 Steps\n",
        "for i in range(100):\n",
        "    \n",
        "    w, b = train(X, y, w, b, learning_rate=0.01)\n",
        "    print('Current Loss on iteration', i, \n",
        "          loss(y, prediction(X, w, b)).numpy())"
      ],
      "execution_count": 111,
      "outputs": [
        {
          "output_type": "stream",
          "text": [
            "Current Loss on iteration 0 236.16759\n",
            "Current Loss on iteration 1 235.09299\n",
            "Current Loss on iteration 2 234.06102\n",
            "Current Loss on iteration 3 233.06998\n",
            "Current Loss on iteration 4 232.11781\n",
            "Current Loss on iteration 5 231.20381\n",
            "Current Loss on iteration 6 230.32585\n",
            "Current Loss on iteration 7 229.48265\n",
            "Current Loss on iteration 8 228.67297\n",
            "Current Loss on iteration 9 227.89539\n",
            "Current Loss on iteration 10 227.14832\n",
            "Current Loss on iteration 11 226.43114\n",
            "Current Loss on iteration 12 225.74234\n",
            "Current Loss on iteration 13 225.0808\n",
            "Current Loss on iteration 14 224.44553\n",
            "Current Loss on iteration 15 223.835\n",
            "Current Loss on iteration 16 223.24931\n",
            "Current Loss on iteration 17 222.68655\n",
            "Current Loss on iteration 18 222.14595\n",
            "Current Loss on iteration 19 221.62688\n",
            "Current Loss on iteration 20 221.12842\n",
            "Current Loss on iteration 21 220.6498\n",
            "Current Loss on iteration 22 220.18993\n",
            "Current Loss on iteration 23 219.74841\n",
            "Current Loss on iteration 24 219.32425\n",
            "Current Loss on iteration 25 218.91705\n",
            "Current Loss on iteration 26 218.52579\n",
            "Current Loss on iteration 27 218.15027\n",
            "Current Loss on iteration 28 217.78957\n",
            "Current Loss on iteration 29 217.44315\n",
            "Current Loss on iteration 30 217.11034\n",
            "Current Loss on iteration 31 216.79077\n",
            "Current Loss on iteration 32 216.48412\n",
            "Current Loss on iteration 33 216.18932\n",
            "Current Loss on iteration 34 215.90611\n",
            "Current Loss on iteration 35 215.63437\n",
            "Current Loss on iteration 36 215.37334\n",
            "Current Loss on iteration 37 215.12263\n",
            "Current Loss on iteration 38 214.88185\n",
            "Current Loss on iteration 39 214.65053\n",
            "Current Loss on iteration 40 214.42859\n",
            "Current Loss on iteration 41 214.21527\n",
            "Current Loss on iteration 42 214.01044\n",
            "Current Loss on iteration 43 213.81369\n",
            "Current Loss on iteration 44 213.62482\n",
            "Current Loss on iteration 45 213.44333\n",
            "Current Loss on iteration 46 213.2691\n",
            "Current Loss on iteration 47 213.10179\n",
            "Current Loss on iteration 48 212.94106\n",
            "Current Loss on iteration 49 212.78687\n",
            "Current Loss on iteration 50 212.63857\n",
            "Current Loss on iteration 51 212.4961\n",
            "Current Loss on iteration 52 212.35948\n",
            "Current Loss on iteration 53 212.22816\n",
            "Current Loss on iteration 54 212.10205\n",
            "Current Loss on iteration 55 211.98093\n",
            "Current Loss on iteration 56 211.86461\n",
            "Current Loss on iteration 57 211.75293\n",
            "Current Loss on iteration 58 211.64558\n",
            "Current Loss on iteration 59 211.54266\n",
            "Current Loss on iteration 60 211.44374\n",
            "Current Loss on iteration 61 211.34874\n",
            "Current Loss on iteration 62 211.2575\n",
            "Current Loss on iteration 63 211.16982\n",
            "Current Loss on iteration 64 211.08572\n",
            "Current Loss on iteration 65 211.00484\n",
            "Current Loss on iteration 66 210.92729\n",
            "Current Loss on iteration 67 210.85278\n",
            "Current Loss on iteration 68 210.78104\n",
            "Current Loss on iteration 69 210.71225\n",
            "Current Loss on iteration 70 210.64633\n",
            "Current Loss on iteration 71 210.58289\n",
            "Current Loss on iteration 72 210.52199\n",
            "Current Loss on iteration 73 210.46347\n",
            "Current Loss on iteration 74 210.4073\n",
            "Current Loss on iteration 75 210.3533\n",
            "Current Loss on iteration 76 210.30153\n",
            "Current Loss on iteration 77 210.2518\n",
            "Current Loss on iteration 78 210.204\n",
            "Current Loss on iteration 79 210.15811\n",
            "Current Loss on iteration 80 210.1141\n",
            "Current Loss on iteration 81 210.0717\n",
            "Current Loss on iteration 82 210.03108\n",
            "Current Loss on iteration 83 209.99205\n",
            "Current Loss on iteration 84 209.95453\n",
            "Current Loss on iteration 85 209.91852\n",
            "Current Loss on iteration 86 209.88396\n",
            "Current Loss on iteration 87 209.85075\n",
            "Current Loss on iteration 88 209.81891\n",
            "Current Loss on iteration 89 209.78818\n",
            "Current Loss on iteration 90 209.75874\n",
            "Current Loss on iteration 91 209.73053\n",
            "Current Loss on iteration 92 209.70349\n",
            "Current Loss on iteration 93 209.67744\n",
            "Current Loss on iteration 94 209.65225\n",
            "Current Loss on iteration 95 209.62833\n",
            "Current Loss on iteration 96 209.6052\n",
            "Current Loss on iteration 97 209.58302\n",
            "Current Loss on iteration 98 209.56174\n",
            "Current Loss on iteration 99 209.5413\n"
          ],
          "name": "stdout"
        }
      ]
    },
    {
      "cell_type": "markdown",
      "metadata": {
        "id": "vanvD93FV0_k",
        "colab_type": "text"
      },
      "source": [
        "### Observe values of Weight\n",
        "- Print the updated values"
      ]
    },
    {
      "cell_type": "code",
      "metadata": {
        "id": "QSqpy4gtWaOD",
        "colab_type": "code",
        "colab": {
          "base_uri": "https://localhost:8080/",
          "height": 102
        },
        "outputId": "0dfeff26-c882-4aa0-e12b-31764bdbe0f2"
      },
      "source": [
        "#Check Weights and Bias\n",
        "print('Weights:\\n', w.numpy())\n"
      ],
      "execution_count": 112,
      "outputs": [
        {
          "output_type": "stream",
          "text": [
            "Weights:\n",
            " [[0.0547828 ]\n",
            " [0.05488191]\n",
            " [0.05422735]\n",
            " [0.05533117]]\n"
          ],
          "name": "stdout"
        }
      ]
    },
    {
      "cell_type": "markdown",
      "metadata": {
        "colab_type": "text",
        "id": "y9KpRupYUEwy"
      },
      "source": [
        "### Observe values of Bias\n",
        "- Print the updated values"
      ]
    },
    {
      "cell_type": "code",
      "metadata": {
        "colab_type": "code",
        "id": "bhEWkGqHWohg",
        "colab": {
          "base_uri": "https://localhost:8080/",
          "height": 51
        },
        "outputId": "0dbd879d-2e8e-4175-ff4b-13c493aa3817"
      },
      "source": [
        "print('Bias:\\n',b.numpy())"
      ],
      "execution_count": 113,
      "outputs": [
        {
          "output_type": "stream",
          "text": [
            "Bias:\n",
            " [4.607657]\n"
          ],
          "name": "stdout"
        }
      ]
    },
    {
      "cell_type": "code",
      "metadata": {
        "id": "3Vuxv-b7MQqo",
        "colab_type": "code",
        "colab": {}
      },
      "source": [
        ""
      ],
      "execution_count": 0,
      "outputs": []
    }
  ]
}